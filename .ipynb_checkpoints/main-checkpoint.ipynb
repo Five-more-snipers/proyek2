{
 "cells": [
  {
   "cell_type": "code",
   "execution_count": 1,
   "id": "45d5c57e-764c-4c81-b0ce-b1cd877338d7",
   "metadata": {},
   "outputs": [
    {
     "name": "stderr",
     "output_type": "stream",
     "text": [
      "2025-07-08 14:11:32.904322: I tensorflow/core/util/port.cc:113] oneDNN custom operations are on. You may see slightly different numerical results due to floating-point round-off errors from different computation orders. To turn them off, set the environment variable `TF_ENABLE_ONEDNN_OPTS=0`.\n",
      "2025-07-08 14:11:33.131117: I external/local_tsl/tsl/cuda/cudart_stub.cc:31] Could not find cuda drivers on your machine, GPU will not be used.\n",
      "2025-07-08 14:11:33.861389: E external/local_xla/xla/stream_executor/cuda/cuda_dnn.cc:9261] Unable to register cuDNN factory: Attempting to register factory for plugin cuDNN when one has already been registered\n",
      "2025-07-08 14:11:33.862189: E external/local_xla/xla/stream_executor/cuda/cuda_fft.cc:607] Unable to register cuFFT factory: Attempting to register factory for plugin cuFFT when one has already been registered\n",
      "2025-07-08 14:11:33.986176: E external/local_xla/xla/stream_executor/cuda/cuda_blas.cc:1515] Unable to register cuBLAS factory: Attempting to register factory for plugin cuBLAS when one has already been registered\n",
      "2025-07-08 14:11:34.371727: I external/local_tsl/tsl/cuda/cudart_stub.cc:31] Could not find cuda drivers on your machine, GPU will not be used.\n",
      "2025-07-08 14:11:34.377860: I tensorflow/core/platform/cpu_feature_guard.cc:182] This TensorFlow binary is optimized to use available CPU instructions in performance-critical operations.\n",
      "To enable the following instructions: AVX2 AVX_VNNI FMA, in other operations, rebuild TensorFlow with the appropriate compiler flags.\n",
      "2025-07-08 14:11:52.178653: W tensorflow/compiler/tf2tensorrt/utils/py_utils.cc:38] TF-TRT Warning: Could not find TensorRT\n"
     ]
    }
   ],
   "source": [
    "# ===============================================================\n",
    "# NOTEBOOK UTAMA UNTUK MENJALANKAN PIPELINE MODULAR\n",
    "# ===============================================================\n",
    "\n",
    "# 1. Impor semua library yang dibutuhkan\n",
    "import os\n",
    "import tensorflow as tf\n",
    "from tfx.orchestration.experimental.interactive.interactive_context import InteractiveContext\n",
    "from tfx.components import CsvExampleGen, StatisticsGen, SchemaGen, ExampleValidator, Transform, Tuner, Trainer, Evaluator, Pusher\n",
    "from tfx.proto import trainer_pb2, pusher_pb2, example_gen_pb2\n",
    "from tfx.dsl.components.common.resolver import Resolver\n",
    "from tfx.dsl.input_resolution.strategies.latest_blessed_model_strategy import LatestBlessedModelStrategy\n",
    "from tfx.types import Channel\n",
    "from tfx.types.standard_artifacts import Model, ModelBlessing\n",
    "import tensorflow_model_analysis as tfma"
   ]
  },
  {
   "cell_type": "code",
   "execution_count": 2,
   "id": "06fa3adb-e259-4ad8-8995-ae1a13a5eb6a",
   "metadata": {},
   "outputs": [],
   "source": [
    "# 2. Konfigurasi Path dan Variabel\n",
    "# --- GANTI DENGAN USERNAME ANDA ---\n",
    "USERNAME = \"raffihakim\"\n",
    "# -----------------------------------\n",
    "\n",
    "# Nama pipeline baru untuk memastikan tidak ada cache lama\n",
    "PIPELINE_NAME = \"student-habits-modular-pipeline\"\n",
    "PIPELINE_ROOT = os.path.join(f'{USERNAME}-pipeline')\n",
    "DATA_ROOT = \"data\"\n",
    "SERVING_MODEL_DIR = os.path.join(PIPELINE_ROOT, \"serving_model\", PIPELINE_NAME)\n",
    "\n",
    "# --- Path ke file-file logika Anda ---\n",
    "TRANSFORM_MODULE_FILE = os.path.join(\"pipeline\", \"student_transform.py\")\n",
    "TUNER_MODULE_FILE = os.path.join(\"pipeline\", \"student_tuner.py\")\n",
    "TRAINER_MODULE_FILE = os.path.join(\"pipeline\", \"student_trainer.py\")\n",
    "# ------------------------------------"
   ]
  },
  {
   "cell_type": "code",
   "execution_count": 3,
   "id": "3ec50697-dd0b-4cd0-9833-90a8e79f8050",
   "metadata": {},
   "outputs": [
    {
     "name": "stderr",
     "output_type": "stream",
     "text": [
      "WARNING:absl:InteractiveContext metadata_connection_config not provided: using SQLite ML Metadata database at raffihakim-pipeline/metadata.sqlite.\n"
     ]
    },
    {
     "name": "stdout",
     "output_type": "stream",
     "text": [
      "✅ Konteks TFX baru untuk 'student-habits-modular-pipeline' berhasil diinisialisasi.\n"
     ]
    }
   ],
   "source": [
    "# 4. Inisialisasi Ulang InteractiveContext\n",
    "context = InteractiveContext(pipeline_root=PIPELINE_ROOT)\n",
    "print(f\"✅ Konteks TFX baru untuk '{PIPELINE_NAME}' berhasil diinisialisasi.\")"
   ]
  },
  {
   "cell_type": "code",
   "execution_count": 4,
   "id": "f5352b26-5264-4779-a12b-c3b7813b6a63",
   "metadata": {},
   "outputs": [
    {
     "name": "stderr",
     "output_type": "stream",
     "text": [
      "WARNING:apache_beam.runners.interactive.interactive_environment:Dependencies required for Interactive Beam PCollection visualization are not available, please use: `pip install apache-beam[interactive]` to install necessary dependencies to enable all data visualization features.\n"
     ]
    },
    {
     "data": {
      "application/javascript": [
       "\n",
       "        if (typeof window.interactive_beam_jquery == 'undefined') {\n",
       "          var jqueryScript = document.createElement('script');\n",
       "          jqueryScript.src = 'https://code.jquery.com/jquery-3.4.1.slim.min.js';\n",
       "          jqueryScript.type = 'text/javascript';\n",
       "          jqueryScript.onload = function() {\n",
       "            var datatableScript = document.createElement('script');\n",
       "            datatableScript.src = 'https://cdn.datatables.net/1.10.20/js/jquery.dataTables.min.js';\n",
       "            datatableScript.type = 'text/javascript';\n",
       "            datatableScript.onload = function() {\n",
       "              window.interactive_beam_jquery = jQuery.noConflict(true);\n",
       "              window.interactive_beam_jquery(document).ready(function($){\n",
       "                \n",
       "              });\n",
       "            }\n",
       "            document.head.appendChild(datatableScript);\n",
       "          };\n",
       "          document.head.appendChild(jqueryScript);\n",
       "        } else {\n",
       "          window.interactive_beam_jquery(document).ready(function($){\n",
       "            \n",
       "          });\n",
       "        }"
      ]
     },
     "metadata": {},
     "output_type": "display_data"
    },
    {
     "name": "stdout",
     "output_type": "stream",
     "text": [
      "✅ 1/9 ExampleGen Selesai\n"
     ]
    }
   ],
   "source": [
    "# ===============================================================\n",
    "# 5. Jalankan Komponen Pipeline Secara Berurutan\n",
    "# ===============================================================\n",
    "\n",
    "# --- Jalankan setiap blok kode berikut dalam sel terpisah ---\n",
    "\n",
    "# 1. ExampleGen\n",
    "output_config = example_gen_pb2.Output(split_config=example_gen_pb2.SplitConfig(splits=[\n",
    "    example_gen_pb2.SplitConfig.Split(name=\"train\", hash_buckets=8),\n",
    "    example_gen_pb2.SplitConfig.Split(name=\"eval\", hash_buckets=2)\n",
    "]))\n",
    "example_gen = CsvExampleGen(input_base=DATA_ROOT, output_config=output_config)\n",
    "context.run(example_gen)\n",
    "print(\"✅ 1/9 ExampleGen Selesai\")"
   ]
  },
  {
   "cell_type": "code",
   "execution_count": 5,
   "id": "47b9dfd0-8ff4-4f4f-a69d-39a569a6e497",
   "metadata": {},
   "outputs": [
    {
     "name": "stdout",
     "output_type": "stream",
     "text": [
      "✅ 2/9 StatisticsGen Selesai\n"
     ]
    }
   ],
   "source": [
    "# 2. StatisticsGen\n",
    "statistics_gen = StatisticsGen(examples=example_gen.outputs['examples'])\n",
    "context.run(statistics_gen)\n",
    "print(\"✅ 2/9 StatisticsGen Selesai\")"
   ]
  },
  {
   "cell_type": "code",
   "execution_count": 6,
   "id": "584a600e-f55c-4bfb-b5f1-ad280fd7e4be",
   "metadata": {},
   "outputs": [
    {
     "name": "stdout",
     "output_type": "stream",
     "text": [
      "✅ 3/9 SchemaGen Selesai\n"
     ]
    }
   ],
   "source": [
    "# 3. SchemaGen\n",
    "schema_gen = SchemaGen(statistics=statistics_gen.outputs['statistics'])\n",
    "context.run(schema_gen)\n",
    "print(\"✅ 3/9 SchemaGen Selesai\")\n"
   ]
  },
  {
   "cell_type": "code",
   "execution_count": 7,
   "id": "3e8afbf5-8a08-4683-bd19-a714e06e649c",
   "metadata": {},
   "outputs": [
    {
     "name": "stdout",
     "output_type": "stream",
     "text": [
      "✅ 4/9 ExampleValidator Selesai\n"
     ]
    }
   ],
   "source": [
    "# 4. ExampleValidator\n",
    "example_validator = ExampleValidator(statistics=statistics_gen.outputs['statistics'], schema=schema_gen.outputs['schema'])\n",
    "context.run(example_validator)\n",
    "print(\"✅ 4/9 ExampleValidator Selesai\")"
   ]
  },
  {
   "cell_type": "code",
   "execution_count": 8,
   "id": "0e58d348-f235-48d2-857b-7ad3c81d5a4b",
   "metadata": {},
   "outputs": [
    {
     "name": "stdout",
     "output_type": "stream",
     "text": [
      "running bdist_wheel\n",
      "running build\n",
      "running build_py\n",
      "creating build\n",
      "creating build/lib\n",
      "copying module.py -> build/lib\n",
      "copying student_trainer.py -> build/lib\n",
      "copying student_transform.py -> build/lib\n",
      "copying student_tuner.py -> build/lib\n",
      "installing to /tmp/tmpq1zy3nv6\n",
      "running install\n",
      "running install_lib\n",
      "copying build/lib/student_transform.py -> /tmp/tmpq1zy3nv6\n",
      "copying build/lib/module.py -> /tmp/tmpq1zy3nv6\n",
      "copying build/lib/student_trainer.py -> /tmp/tmpq1zy3nv6\n",
      "copying build/lib/student_tuner.py -> /tmp/tmpq1zy3nv6\n",
      "running install_egg_info\n",
      "running egg_info\n",
      "creating tfx_user_code_Transform.egg-info\n",
      "writing tfx_user_code_Transform.egg-info/PKG-INFO\n",
      "writing dependency_links to tfx_user_code_Transform.egg-info/dependency_links.txt\n",
      "writing top-level names to tfx_user_code_Transform.egg-info/top_level.txt\n",
      "writing manifest file 'tfx_user_code_Transform.egg-info/SOURCES.txt'\n",
      "reading manifest file 'tfx_user_code_Transform.egg-info/SOURCES.txt'\n",
      "writing manifest file 'tfx_user_code_Transform.egg-info/SOURCES.txt'\n",
      "Copying tfx_user_code_Transform.egg-info to /tmp/tmpq1zy3nv6/tfx_user_code_Transform-0.0+001467eb49da7fd68fe1c87501132413029ed8032fb55aaf26e418633ecfce9d.egg-info\n",
      "running install_scripts\n"
     ]
    },
    {
     "name": "stderr",
     "output_type": "stream",
     "text": [
      "/mnt/d/proyek1/mlops/lib/python3.10/site-packages/setuptools/command/install.py:34: SetuptoolsDeprecationWarning: setup.py install is deprecated. Use build and pip and other standards-based tools.\n",
      "  warnings.warn(\n"
     ]
    },
    {
     "name": "stdout",
     "output_type": "stream",
     "text": [
      "creating /tmp/tmpq1zy3nv6/tfx_user_code_Transform-0.0+001467eb49da7fd68fe1c87501132413029ed8032fb55aaf26e418633ecfce9d.dist-info/WHEEL\n",
      "creating '/tmp/tmpererotqk/tfx_user_code_Transform-0.0+001467eb49da7fd68fe1c87501132413029ed8032fb55aaf26e418633ecfce9d-py3-none-any.whl' and adding '/tmp/tmpq1zy3nv6' to it\n",
      "adding 'module.py'\n",
      "adding 'student_trainer.py'\n",
      "adding 'student_transform.py'\n",
      "adding 'student_tuner.py'\n",
      "adding 'tfx_user_code_Transform-0.0+001467eb49da7fd68fe1c87501132413029ed8032fb55aaf26e418633ecfce9d.dist-info/METADATA'\n",
      "adding 'tfx_user_code_Transform-0.0+001467eb49da7fd68fe1c87501132413029ed8032fb55aaf26e418633ecfce9d.dist-info/WHEEL'\n",
      "adding 'tfx_user_code_Transform-0.0+001467eb49da7fd68fe1c87501132413029ed8032fb55aaf26e418633ecfce9d.dist-info/top_level.txt'\n",
      "adding 'tfx_user_code_Transform-0.0+001467eb49da7fd68fe1c87501132413029ed8032fb55aaf26e418633ecfce9d.dist-info/RECORD'\n",
      "removing /tmp/tmpq1zy3nv6\n",
      "Processing ./raffihakim-pipeline/_wheels/tfx_user_code_Transform-0.0+001467eb49da7fd68fe1c87501132413029ed8032fb55aaf26e418633ecfce9d-py3-none-any.whl\n",
      "Installing collected packages: tfx-user-code-Transform\n",
      "Successfully installed tfx-user-code-Transform-0.0+001467eb49da7fd68fe1c87501132413029ed8032fb55aaf26e418633ecfce9d\n",
      "Processing ./raffihakim-pipeline/_wheels/tfx_user_code_Transform-0.0+001467eb49da7fd68fe1c87501132413029ed8032fb55aaf26e418633ecfce9d-py3-none-any.whl\n",
      "Installing collected packages: tfx-user-code-Transform\n",
      "Successfully installed tfx-user-code-Transform-0.0+001467eb49da7fd68fe1c87501132413029ed8032fb55aaf26e418633ecfce9d\n",
      "Processing ./raffihakim-pipeline/_wheels/tfx_user_code_Transform-0.0+001467eb49da7fd68fe1c87501132413029ed8032fb55aaf26e418633ecfce9d-py3-none-any.whl\n",
      "Installing collected packages: tfx-user-code-Transform\n",
      "Successfully installed tfx-user-code-Transform-0.0+001467eb49da7fd68fe1c87501132413029ed8032fb55aaf26e418633ecfce9d\n"
     ]
    },
    {
     "name": "stderr",
     "output_type": "stream",
     "text": [
      "2025-07-08 14:14:13.975405: I external/local_xla/xla/stream_executor/cuda/cuda_executor.cc:887] could not open file to read NUMA node: /sys/bus/pci/devices/0000:01:00.0/numa_node\n",
      "Your kernel may have been built without NUMA support.\n",
      "2025-07-08 14:14:13.977971: W tensorflow/core/common_runtime/gpu/gpu_device.cc:2256] Cannot dlopen some GPU libraries. Please make sure the missing libraries mentioned above are installed properly if you would like to use GPU. Follow the guide at https://www.tensorflow.org/install/gpu for how to download and setup the required libraries for your platform.\n",
      "Skipping registering GPU devices...\n"
     ]
    },
    {
     "name": "stdout",
     "output_type": "stream",
     "text": [
      "INFO:tensorflow:Assets written to: raffihakim-pipeline/Transform/transform_graph/5/.temp_path/tftransform_tmp/56d60b55568945ea9c947b8e65de7c70/assets\n"
     ]
    },
    {
     "name": "stderr",
     "output_type": "stream",
     "text": [
      "INFO:tensorflow:Assets written to: raffihakim-pipeline/Transform/transform_graph/5/.temp_path/tftransform_tmp/56d60b55568945ea9c947b8e65de7c70/assets\n"
     ]
    },
    {
     "name": "stdout",
     "output_type": "stream",
     "text": [
      "INFO:tensorflow:struct2tensor is not available.\n"
     ]
    },
    {
     "name": "stderr",
     "output_type": "stream",
     "text": [
      "INFO:tensorflow:struct2tensor is not available.\n"
     ]
    },
    {
     "name": "stdout",
     "output_type": "stream",
     "text": [
      "INFO:tensorflow:tensorflow_decision_forests is not available.\n"
     ]
    },
    {
     "name": "stderr",
     "output_type": "stream",
     "text": [
      "INFO:tensorflow:tensorflow_decision_forests is not available.\n"
     ]
    },
    {
     "name": "stdout",
     "output_type": "stream",
     "text": [
      "INFO:tensorflow:tensorflow_text is not available.\n"
     ]
    },
    {
     "name": "stderr",
     "output_type": "stream",
     "text": [
      "INFO:tensorflow:tensorflow_text is not available.\n"
     ]
    },
    {
     "name": "stdout",
     "output_type": "stream",
     "text": [
      "INFO:tensorflow:struct2tensor is not available.\n"
     ]
    },
    {
     "name": "stderr",
     "output_type": "stream",
     "text": [
      "INFO:tensorflow:struct2tensor is not available.\n"
     ]
    },
    {
     "name": "stdout",
     "output_type": "stream",
     "text": [
      "INFO:tensorflow:tensorflow_decision_forests is not available.\n"
     ]
    },
    {
     "name": "stderr",
     "output_type": "stream",
     "text": [
      "INFO:tensorflow:tensorflow_decision_forests is not available.\n"
     ]
    },
    {
     "name": "stdout",
     "output_type": "stream",
     "text": [
      "INFO:tensorflow:tensorflow_text is not available.\n"
     ]
    },
    {
     "name": "stderr",
     "output_type": "stream",
     "text": [
      "INFO:tensorflow:tensorflow_text is not available.\n"
     ]
    },
    {
     "name": "stdout",
     "output_type": "stream",
     "text": [
      "✅ 5/9 Transform Selesai\n"
     ]
    }
   ],
   "source": [
    "# 5. Transform\n",
    "transform = Transform(\n",
    "    examples=example_gen.outputs['examples'],\n",
    "    schema=schema_gen.outputs['schema'],\n",
    "    module_file=TRANSFORM_MODULE_FILE\n",
    ")\n",
    "context.run(transform)\n",
    "print(\"✅ 5/9 Transform Selesai\")"
   ]
  },
  {
   "cell_type": "code",
   "execution_count": 9,
   "id": "6428ba64-fe1f-425b-b519-4cc7373baf8e",
   "metadata": {},
   "outputs": [
    {
     "name": "stdout",
     "output_type": "stream",
     "text": [
      "Trial 10 Complete [00h 00m 05s]\n",
      "val_root_mean_squared_error: 5.3160200119018555\n",
      "\n",
      "Best val_root_mean_squared_error So Far: 4.771839141845703\n",
      "Total elapsed time: 00h 00m 49s\n",
      "Results summary\n",
      "Results in raffihakim-pipeline/.temp/6/student_performance_tuning\n",
      "Showing 10 best trials\n",
      "Objective(name=\"val_root_mean_squared_error\", direction=\"min\")\n",
      "\n",
      "Trial 02 summary\n",
      "Hyperparameters:\n",
      "num_layers: 2\n",
      "units_0: 32\n",
      "dropout: 0.5\n",
      "learning_rate: 0.001\n",
      "units_1: 192\n",
      "Score: 4.771839141845703\n",
      "\n",
      "Trial 07 summary\n",
      "Hyperparameters:\n",
      "num_layers: 2\n",
      "units_0: 256\n",
      "dropout: 0.4\n",
      "learning_rate: 0.001\n",
      "units_1: 160\n",
      "Score: 4.989111423492432\n",
      "\n",
      "Trial 09 summary\n",
      "Hyperparameters:\n",
      "num_layers: 2\n",
      "units_0: 160\n",
      "dropout: 0.30000000000000004\n",
      "learning_rate: 0.001\n",
      "units_1: 192\n",
      "Score: 5.3160200119018555\n",
      "\n",
      "Trial 00 summary\n",
      "Hyperparameters:\n",
      "num_layers: 1\n",
      "units_0: 192\n",
      "dropout: 0.5\n",
      "learning_rate: 0.001\n",
      "Score: 7.812055587768555\n",
      "\n",
      "Trial 01 summary\n",
      "Hyperparameters:\n",
      "num_layers: 2\n",
      "units_0: 32\n",
      "dropout: 0.5\n",
      "learning_rate: 0.01\n",
      "units_1: 32\n",
      "Score: 8.795647621154785\n",
      "\n",
      "Trial 06 summary\n",
      "Hyperparameters:\n",
      "num_layers: 1\n",
      "units_0: 32\n",
      "dropout: 0.2\n",
      "learning_rate: 0.001\n",
      "units_1: 32\n",
      "Score: 14.288725852966309\n",
      "\n",
      "Trial 04 summary\n",
      "Hyperparameters:\n",
      "num_layers: 2\n",
      "units_0: 256\n",
      "dropout: 0.5\n",
      "learning_rate: 0.0001\n",
      "units_1: 96\n",
      "Score: 15.015661239624023\n",
      "\n",
      "Trial 03 summary\n",
      "Hyperparameters:\n",
      "num_layers: 1\n",
      "units_0: 256\n",
      "dropout: 0.5\n",
      "learning_rate: 0.0001\n",
      "units_1: 32\n",
      "Score: 15.802694320678711\n",
      "\n",
      "Trial 05 summary\n",
      "Hyperparameters:\n",
      "num_layers: 2\n",
      "units_0: 32\n",
      "dropout: 0.30000000000000004\n",
      "learning_rate: 0.0001\n",
      "units_1: 128\n",
      "Score: 16.061141967773438\n",
      "\n",
      "Trial 08 summary\n",
      "Hyperparameters:\n",
      "num_layers: 2\n",
      "units_0: 32\n",
      "dropout: 0.30000000000000004\n",
      "learning_rate: 0.0001\n",
      "units_1: 32\n",
      "Score: 16.953962326049805\n",
      "✅ 6/9 Tuner Selesai\n"
     ]
    }
   ],
   "source": [
    "# 6. Tuner\n",
    "tuner = Tuner(\n",
    "    module_file=TUNER_MODULE_FILE,\n",
    "    examples=transform.outputs['transformed_examples'],\n",
    "    transform_graph=transform.outputs['transform_graph'],\n",
    "    schema=schema_gen.outputs['schema'],\n",
    "    train_args=trainer_pb2.TrainArgs(splits=['train'], num_steps=1000),\n",
    "    eval_args=trainer_pb2.EvalArgs(splits=['eval'], num_steps=500)\n",
    ")\n",
    "context.run(tuner)\n",
    "print(\"✅ 6/9 Tuner Selesai\")"
   ]
  },
  {
   "cell_type": "code",
   "execution_count": 10,
   "id": "1daf8b93-e5f7-44dd-8701-a8c93fcf0dca",
   "metadata": {},
   "outputs": [
    {
     "name": "stdout",
     "output_type": "stream",
     "text": [
      "running bdist_wheel\n",
      "running build\n",
      "running build_py\n",
      "creating build\n",
      "creating build/lib\n",
      "copying module.py -> build/lib\n",
      "copying student_trainer.py -> build/lib\n",
      "copying student_transform.py -> build/lib\n",
      "copying student_tuner.py -> build/lib\n",
      "installing to /tmp/tmpe0qhbbfm\n",
      "running install\n",
      "running install_lib\n",
      "copying build/lib/student_transform.py -> /tmp/tmpe0qhbbfm\n",
      "copying build/lib/module.py -> /tmp/tmpe0qhbbfm\n",
      "copying build/lib/student_trainer.py -> /tmp/tmpe0qhbbfm\n",
      "copying build/lib/student_tuner.py -> /tmp/tmpe0qhbbfm\n",
      "running install_egg_info\n",
      "running egg_info\n",
      "creating tfx_user_code_Trainer.egg-info\n",
      "writing tfx_user_code_Trainer.egg-info/PKG-INFO\n",
      "writing dependency_links to tfx_user_code_Trainer.egg-info/dependency_links.txt\n",
      "writing top-level names to tfx_user_code_Trainer.egg-info/top_level.txt\n",
      "writing manifest file 'tfx_user_code_Trainer.egg-info/SOURCES.txt'\n",
      "reading manifest file 'tfx_user_code_Trainer.egg-info/SOURCES.txt'\n",
      "writing manifest file 'tfx_user_code_Trainer.egg-info/SOURCES.txt'\n",
      "Copying tfx_user_code_Trainer.egg-info to /tmp/tmpe0qhbbfm/tfx_user_code_Trainer-0.0+001467eb49da7fd68fe1c87501132413029ed8032fb55aaf26e418633ecfce9d.egg-info\n",
      "running install_scripts\n"
     ]
    },
    {
     "name": "stderr",
     "output_type": "stream",
     "text": [
      "/mnt/d/proyek1/mlops/lib/python3.10/site-packages/setuptools/command/install.py:34: SetuptoolsDeprecationWarning: setup.py install is deprecated. Use build and pip and other standards-based tools.\n",
      "  warnings.warn(\n"
     ]
    },
    {
     "name": "stdout",
     "output_type": "stream",
     "text": [
      "creating /tmp/tmpe0qhbbfm/tfx_user_code_Trainer-0.0+001467eb49da7fd68fe1c87501132413029ed8032fb55aaf26e418633ecfce9d.dist-info/WHEEL\n",
      "creating '/tmp/tmpr598i4as/tfx_user_code_Trainer-0.0+001467eb49da7fd68fe1c87501132413029ed8032fb55aaf26e418633ecfce9d-py3-none-any.whl' and adding '/tmp/tmpe0qhbbfm' to it\n",
      "adding 'module.py'\n",
      "adding 'student_trainer.py'\n",
      "adding 'student_transform.py'\n",
      "adding 'student_tuner.py'\n",
      "adding 'tfx_user_code_Trainer-0.0+001467eb49da7fd68fe1c87501132413029ed8032fb55aaf26e418633ecfce9d.dist-info/METADATA'\n",
      "adding 'tfx_user_code_Trainer-0.0+001467eb49da7fd68fe1c87501132413029ed8032fb55aaf26e418633ecfce9d.dist-info/WHEEL'\n",
      "adding 'tfx_user_code_Trainer-0.0+001467eb49da7fd68fe1c87501132413029ed8032fb55aaf26e418633ecfce9d.dist-info/top_level.txt'\n",
      "adding 'tfx_user_code_Trainer-0.0+001467eb49da7fd68fe1c87501132413029ed8032fb55aaf26e418633ecfce9d.dist-info/RECORD'\n",
      "removing /tmp/tmpe0qhbbfm\n"
     ]
    },
    {
     "name": "stderr",
     "output_type": "stream",
     "text": [
      "WARNING:absl:Examples artifact does not have payload_format custom property. Falling back to FORMAT_TF_EXAMPLE\n",
      "WARNING:absl:Examples artifact does not have payload_format custom property. Falling back to FORMAT_TF_EXAMPLE\n",
      "WARNING:absl:Examples artifact does not have payload_format custom property. Falling back to FORMAT_TF_EXAMPLE\n"
     ]
    },
    {
     "name": "stdout",
     "output_type": "stream",
     "text": [
      "Processing ./raffihakim-pipeline/_wheels/tfx_user_code_Trainer-0.0+001467eb49da7fd68fe1c87501132413029ed8032fb55aaf26e418633ecfce9d-py3-none-any.whl\n",
      "Installing collected packages: tfx-user-code-Trainer\n",
      "Successfully installed tfx-user-code-Trainer-0.0+001467eb49da7fd68fe1c87501132413029ed8032fb55aaf26e418633ecfce9d\n",
      "Model: \"model_1\"\n",
      "__________________________________________________________________________________________________\n",
      " Layer (type)                Output Shape                 Param #   Connected to                  \n",
      "==================================================================================================\n",
      " age_xf (InputLayer)         [(None, 1)]                  0         []                            \n",
      "                                                                                                  \n",
      " study_hours_per_day_xf (In  [(None, 1)]                  0         []                            \n",
      " putLayer)                                                                                        \n",
      "                                                                                                  \n",
      " social_media_hours_xf (Inp  [(None, 1)]                  0         []                            \n",
      " utLayer)                                                                                         \n",
      "                                                                                                  \n",
      " netflix_hours_xf (InputLay  [(None, 1)]                  0         []                            \n",
      " er)                                                                                              \n",
      "                                                                                                  \n",
      " attendance_percentage_xf (  [(None, 1)]                  0         []                            \n",
      " InputLayer)                                                                                      \n",
      "                                                                                                  \n",
      " sleep_hours_xf (InputLayer  [(None, 1)]                  0         []                            \n",
      " )                                                                                                \n",
      "                                                                                                  \n",
      " mental_health_rating_xf (I  [(None, 1)]                  0         []                            \n",
      " nputLayer)                                                                                       \n",
      "                                                                                                  \n",
      " exercise_frequency_xf (Inp  [(None, 1)]                  0         []                            \n",
      " utLayer)                                                                                         \n",
      "                                                                                                  \n",
      " concatenate_1 (Concatenate  (None, 8)                    0         ['age_xf[0][0]',              \n",
      " )                                                                   'study_hours_per_day_xf[0][0]\n",
      "                                                                    ',                            \n",
      "                                                                     'social_media_hours_xf[0][0]'\n",
      "                                                                    , 'netflix_hours_xf[0][0]',   \n",
      "                                                                     'attendance_percentage_xf[0][\n",
      "                                                                    0]',                          \n",
      "                                                                     'sleep_hours_xf[0][0]',      \n",
      "                                                                     'mental_health_rating_xf[0][0\n",
      "                                                                    ]',                           \n",
      "                                                                     'exercise_frequency_xf[0][0]'\n",
      "                                                                    ]                             \n",
      "                                                                                                  \n",
      " dense_3 (Dense)             (None, 128)                  1152      ['concatenate_1[0][0]']       \n",
      "                                                                                                  \n",
      " dropout_1 (Dropout)         (None, 128)                  0         ['dense_3[0][0]']             \n",
      "                                                                                                  \n",
      " dense_4 (Dense)             (None, 64)                   8256      ['dropout_1[0][0]']           \n",
      "                                                                                                  \n",
      " dense_5 (Dense)             (None, 1)                    65        ['dense_4[0][0]']             \n",
      "                                                                                                  \n",
      "==================================================================================================\n",
      "Total params: 9473 (37.00 KB)\n",
      "Trainable params: 9473 (37.00 KB)\n",
      "Non-trainable params: 0 (0.00 Byte)\n",
      "__________________________________________________________________________________________________\n",
      "Epoch 1/15\n",
      "5000/5000 [==============================] - 16s 3ms/step - loss: 76.6906 - root_mean_squared_error: 8.7573 - val_loss: 361.4750 - val_root_mean_squared_error: 19.0125\n",
      "Epoch 2/15\n",
      "5000/5000 [==============================] - 14s 3ms/step - loss: 35.5605 - root_mean_squared_error: 5.9633 - val_loss: 349.8906 - val_root_mean_squared_error: 18.7054\n",
      "Epoch 3/15\n",
      "5000/5000 [==============================] - 12s 2ms/step - loss: 31.1068 - root_mean_squared_error: 5.5774 - val_loss: 454.3089 - val_root_mean_squared_error: 21.3145\n",
      "Epoch 4/15\n",
      "5000/5000 [==============================] - 13s 3ms/step - loss: 28.4886 - root_mean_squared_error: 5.3375 - val_loss: 412.1419 - val_root_mean_squared_error: 20.3013\n",
      "Epoch 5/15\n",
      "5000/5000 [==============================] - 13s 3ms/step - loss: 26.7847 - root_mean_squared_error: 5.1754 - val_loss: 382.1712 - val_root_mean_squared_error: 19.5492\n",
      "Epoch 6/15\n",
      "5000/5000 [==============================] - 14s 3ms/step - loss: 25.5492 - root_mean_squared_error: 5.0546 - val_loss: 443.3808 - val_root_mean_squared_error: 21.0566\n",
      "Epoch 7/15\n",
      "5000/5000 [==============================] - 12s 2ms/step - loss: 24.3942 - root_mean_squared_error: 4.9390 - val_loss: 448.8809 - val_root_mean_squared_error: 21.1868\n",
      "Epoch 8/15\n",
      "5000/5000 [==============================] - 10s 2ms/step - loss: 23.3035 - root_mean_squared_error: 4.8274 - val_loss: 419.7366 - val_root_mean_squared_error: 20.4875\n",
      "Epoch 9/15\n",
      "5000/5000 [==============================] - 11s 2ms/step - loss: 22.3833 - root_mean_squared_error: 4.7311 - val_loss: 442.9655 - val_root_mean_squared_error: 21.0467\n",
      "Epoch 10/15\n",
      "5000/5000 [==============================] - 11s 2ms/step - loss: 21.5708 - root_mean_squared_error: 4.6444 - val_loss: 418.9341 - val_root_mean_squared_error: 20.4679\n",
      "Epoch 11/15\n",
      "5000/5000 [==============================] - 10s 2ms/step - loss: 20.8174 - root_mean_squared_error: 4.5626 - val_loss: 420.7426 - val_root_mean_squared_error: 20.5120\n",
      "Epoch 12/15\n",
      "5000/5000 [==============================] - 11s 2ms/step - loss: 20.1635 - root_mean_squared_error: 4.4904 - val_loss: 394.3264 - val_root_mean_squared_error: 19.8577\n",
      "Epoch 13/15\n",
      "5000/5000 [==============================] - 11s 2ms/step - loss: 19.7745 - root_mean_squared_error: 4.4469 - val_loss: 427.5738 - val_root_mean_squared_error: 20.6779\n",
      "Epoch 14/15\n",
      "5000/5000 [==============================] - 10s 2ms/step - loss: 19.3146 - root_mean_squared_error: 4.3948 - val_loss: 413.4394 - val_root_mean_squared_error: 20.3332\n",
      "Epoch 15/15\n",
      "5000/5000 [==============================] - 10s 2ms/step - loss: 18.9472 - root_mean_squared_error: 4.3528 - val_loss: 406.4105 - val_root_mean_squared_error: 20.1596\n",
      "INFO:tensorflow:Assets written to: raffihakim-pipeline/Trainer/model/7/Format-Serving/assets\n"
     ]
    },
    {
     "name": "stderr",
     "output_type": "stream",
     "text": [
      "INFO:tensorflow:Assets written to: raffihakim-pipeline/Trainer/model/7/Format-Serving/assets\n"
     ]
    },
    {
     "name": "stdout",
     "output_type": "stream",
     "text": [
      "✅ 7/9 Trainer Selesai\n"
     ]
    }
   ],
   "source": [
    "# 7. Trainer\n",
    "trainer = Trainer(\n",
    "    module_file=TRAINER_MODULE_FILE,\n",
    "    examples=transform.outputs['transformed_examples'],\n",
    "    transform_graph=transform.outputs['transform_graph'],\n",
    "    schema=schema_gen.outputs['schema'],\n",
    "    hyperparameters=tuner.outputs['best_hyperparameters'],\n",
    "    train_args=trainer_pb2.TrainArgs(splits=['train'], num_steps=5000),\n",
    "    eval_args=trainer_pb2.EvalArgs(splits=['eval'], num_steps=1000)\n",
    ")\n",
    "context.run(trainer)\n",
    "print(\"✅ 7/9 Trainer Selesai\")"
   ]
  },
  {
   "cell_type": "code",
   "execution_count": 11,
   "id": "89ed3536-635e-4592-a95a-0d79a6f96a1f",
   "metadata": {},
   "outputs": [
    {
     "name": "stdout",
     "output_type": "stream",
     "text": [
      "✅ 8/9 Resolver Selesai\n"
     ]
    }
   ],
   "source": [
    "# 8. Resolver\n",
    "blessed_model_resolver = Resolver(\n",
    "    strategy_class=LatestBlessedModelStrategy,\n",
    "    model=Channel(type=Model),\n",
    "    model_blessing=Channel(type=ModelBlessing)\n",
    ").with_id('latest_blessed_model_resolver')\n",
    "context.run(blessed_model_resolver)\n",
    "print(\"✅ 8/9 Resolver Selesai\")"
   ]
  },
  {
   "cell_type": "code",
   "execution_count": 12,
   "id": "978ca43b-7a38-4a93-b582-bbd2d20ddee2",
   "metadata": {
    "scrolled": true
   },
   "outputs": [
    {
     "name": "stderr",
     "output_type": "stream",
     "text": [
      "WARNING:absl:Large batch_size 1 failed with error Fail to call signature func with signature_name: serving_default.\n",
      "              the inputs are:\n",
      " [b'\\n\\xcf\\x03\\n\\x19\\n\\rnetflix_hours\\x12\\x08\\x12\\x06\\n\\x04\\xcd\\xcc\\x8c?\\n\\x16\\n\\nexam_score\\x12\\x08\\x12\\x06\\n\\x04\\xcd\\xcc`B\\n\\x18\\n\\x0cdiet_quality\\x12\\x08\\n\\x06\\n\\x04Fair\\n\\x0c\\n\\x03age\\x12\\x05\\x1a\\x03\\n\\x01\\x17\\n\\x1f\\n\\x10internet_quality\\x12\\x0b\\n\\t\\n\\x07Average\\n\\x1d\\n\\x14mental_health_rating\\x12\\x05\\x1a\\x03\\n\\x01\\x08\\n\\x1f\\n\\x13study_hours_per_day\\x12\\x08\\x12\\x06\\n\\x04\\x00\\x00\\x00\\x00\\n!\\n\\x15attendance_percentage\\x12\\x08\\x12\\x06\\n\\x04\\x00\\x00\\xaaB\\n\\x1b\\n\\x12exercise_frequency\\x12\\x05\\x1a\\x03\\n\\x01\\x06\\n\\x17\\n\\rpart_time_job\\x12\\x06\\n\\x04\\n\\x02No\\n&\\n\\x18parental_education_level\\x12\\n\\n\\x08\\n\\x06Master\\n\\x1e\\n\\x12social_media_hours\\x12\\x08\\x12\\x06\\n\\x04\\x9a\\x99\\x99?\\n\\x17\\n\\nstudent_id\\x12\\t\\n\\x07\\n\\x05S1000\\n(\\n\\x1dextracurricular_participation\\x12\\x07\\n\\x05\\n\\x03Yes\\n\\x17\\n\\x0bsleep_hours\\x12\\x08\\x12\\x06\\n\\x04\\x00\\x00\\x00A\\n\\x14\\n\\x06gender\\x12\\n\\n\\x08\\n\\x06Female'].\n",
      "              The input_specs are:\n",
      " {'age_xf': TensorSpec(shape=(None, 1), dtype=tf.float32, name='age_xf'), 'study_hours_per_day_xf': TensorSpec(shape=(None, 1), dtype=tf.float32, name='study_hours_per_day_xf'), 'social_media_hours_xf': TensorSpec(shape=(None, 1), dtype=tf.float32, name='social_media_hours_xf'), 'netflix_hours_xf': TensorSpec(shape=(None, 1), dtype=tf.float32, name='netflix_hours_xf'), 'attendance_percentage_xf': TensorSpec(shape=(None, 1), dtype=tf.float32, name='attendance_percentage_xf'), 'sleep_hours_xf': TensorSpec(shape=(None, 1), dtype=tf.float32, name='sleep_hours_xf'), 'mental_health_rating_xf': TensorSpec(shape=(None, 1), dtype=tf.float32, name='mental_health_rating_xf'), 'exercise_frequency_xf': TensorSpec(shape=(None, 1), dtype=tf.float32, name='exercise_frequency_xf')}.. Attempting to run batch through serially. Note that this will significantly affect the performance.\n",
      "ERROR:apache_beam.runners.common:Fail to call signature func with signature_name: serving_default.\n",
      "              the inputs are:\n",
      " [b'\\n\\xcf\\x03\\n\\x19\\n\\rnetflix_hours\\x12\\x08\\x12\\x06\\n\\x04\\xcd\\xcc\\x8c?\\n\\x16\\n\\nexam_score\\x12\\x08\\x12\\x06\\n\\x04\\xcd\\xcc`B\\n\\x18\\n\\x0cdiet_quality\\x12\\x08\\n\\x06\\n\\x04Fair\\n\\x0c\\n\\x03age\\x12\\x05\\x1a\\x03\\n\\x01\\x17\\n\\x1f\\n\\x10internet_quality\\x12\\x0b\\n\\t\\n\\x07Average\\n\\x1d\\n\\x14mental_health_rating\\x12\\x05\\x1a\\x03\\n\\x01\\x08\\n\\x1f\\n\\x13study_hours_per_day\\x12\\x08\\x12\\x06\\n\\x04\\x00\\x00\\x00\\x00\\n!\\n\\x15attendance_percentage\\x12\\x08\\x12\\x06\\n\\x04\\x00\\x00\\xaaB\\n\\x1b\\n\\x12exercise_frequency\\x12\\x05\\x1a\\x03\\n\\x01\\x06\\n\\x17\\n\\rpart_time_job\\x12\\x06\\n\\x04\\n\\x02No\\n&\\n\\x18parental_education_level\\x12\\n\\n\\x08\\n\\x06Master\\n\\x1e\\n\\x12social_media_hours\\x12\\x08\\x12\\x06\\n\\x04\\x9a\\x99\\x99?\\n\\x17\\n\\nstudent_id\\x12\\t\\n\\x07\\n\\x05S1000\\n(\\n\\x1dextracurricular_participation\\x12\\x07\\n\\x05\\n\\x03Yes\\n\\x17\\n\\x0bsleep_hours\\x12\\x08\\x12\\x06\\n\\x04\\x00\\x00\\x00A\\n\\x14\\n\\x06gender\\x12\\n\\n\\x08\\n\\x06Female'].\n",
      "              The input_specs are:\n",
      " {'age_xf': TensorSpec(shape=(None, 1), dtype=tf.float32, name='age_xf'), 'study_hours_per_day_xf': TensorSpec(shape=(None, 1), dtype=tf.float32, name='study_hours_per_day_xf'), 'social_media_hours_xf': TensorSpec(shape=(None, 1), dtype=tf.float32, name='social_media_hours_xf'), 'netflix_hours_xf': TensorSpec(shape=(None, 1), dtype=tf.float32, name='netflix_hours_xf'), 'attendance_percentage_xf': TensorSpec(shape=(None, 1), dtype=tf.float32, name='attendance_percentage_xf'), 'sleep_hours_xf': TensorSpec(shape=(None, 1), dtype=tf.float32, name='sleep_hours_xf'), 'mental_health_rating_xf': TensorSpec(shape=(None, 1), dtype=tf.float32, name='mental_health_rating_xf'), 'exercise_frequency_xf': TensorSpec(shape=(None, 1), dtype=tf.float32, name='exercise_frequency_xf')}. [while running 'ExtractEvaluateAndWriteResults/ExtractAndEvaluate/ExtractPredictions/Inference']\n",
      "Traceback (most recent call last):\n",
      "  File \"/mnt/d/proyek1/mlops/lib/python3.10/site-packages/tensorflow/python/eager/polymorphic_function/function_type_utils.py\", line 442, in bind_function_inputs\n",
      "    bound_arguments = function_type.bind_with_defaults(\n",
      "  File \"/mnt/d/proyek1/mlops/lib/python3.10/site-packages/tensorflow/core/function/polymorphism/function_type.py\", line 264, in bind_with_defaults\n",
      "    bound_arguments = self.bind(*args, **kwargs)\n",
      "  File \"/usr/lib/python3.10/inspect.py\", line 3186, in bind\n",
      "    return self._bind(args, kwargs)\n",
      "  File \"/usr/lib/python3.10/inspect.py\", line 3112, in _bind\n",
      "    raise TypeError(\n",
      "TypeError: too many positional arguments\n",
      "\n",
      "The above exception was the direct cause of the following exception:\n",
      "\n",
      "Traceback (most recent call last):\n",
      "  File \"/mnt/d/proyek1/mlops/lib/python3.10/site-packages/tensorflow/python/eager/polymorphic_function/concrete_function.py\", line 1180, in _call_impl\n",
      "    return self._call_with_structured_signature(args, kwargs)\n",
      "  File \"/mnt/d/proyek1/mlops/lib/python3.10/site-packages/tensorflow/python/eager/polymorphic_function/concrete_function.py\", line 1260, in _call_with_structured_signature\n",
      "    function_type_utils.canonicalize_function_inputs(\n",
      "  File \"/mnt/d/proyek1/mlops/lib/python3.10/site-packages/tensorflow/python/eager/polymorphic_function/function_type_utils.py\", line 422, in canonicalize_function_inputs\n",
      "    bound_arguments = bind_function_inputs(\n",
      "  File \"/mnt/d/proyek1/mlops/lib/python3.10/site-packages/tensorflow/python/eager/polymorphic_function/function_type_utils.py\", line 446, in bind_function_inputs\n",
      "    raise TypeError(\n",
      "TypeError: Binding inputs to tf.function failed due to `too many positional arguments`. Received args: (<tf.Tensor: shape=(1,), dtype=string, numpy=\n",
      "array([b'\\n\\xcf\\x03\\n\\x19\\n\\rnetflix_hours\\x12\\x08\\x12\\x06\\n\\x04\\xcd\\xcc\\x8c?\\n\\x16\\n\\nexam_score\\x12\\x08\\x12\\x06\\n\\x04\\xcd\\xcc`B\\n\\x18\\n\\x0cdiet_quality\\x12\\x08\\n\\x06\\n\\x04Fair\\n\\x0c\\n\\x03age\\x12\\x05\\x1a\\x03\\n\\x01\\x17\\n\\x1f\\n\\x10internet_quality\\x12\\x0b\\n\\t\\n\\x07Average\\n\\x1d\\n\\x14mental_health_rating\\x12\\x05\\x1a\\x03\\n\\x01\\x08\\n\\x1f\\n\\x13study_hours_per_day\\x12\\x08\\x12\\x06\\n\\x04\\x00\\x00\\x00\\x00\\n!\\n\\x15attendance_percentage\\x12\\x08\\x12\\x06\\n\\x04\\x00\\x00\\xaaB\\n\\x1b\\n\\x12exercise_frequency\\x12\\x05\\x1a\\x03\\n\\x01\\x06\\n\\x17\\n\\rpart_time_job\\x12\\x06\\n\\x04\\n\\x02No\\n&\\n\\x18parental_education_level\\x12\\n\\n\\x08\\n\\x06Master\\n\\x1e\\n\\x12social_media_hours\\x12\\x08\\x12\\x06\\n\\x04\\x9a\\x99\\x99?\\n\\x17\\n\\nstudent_id\\x12\\t\\n\\x07\\n\\x05S1000\\n(\\n\\x1dextracurricular_participation\\x12\\x07\\n\\x05\\n\\x03Yes\\n\\x17\\n\\x0bsleep_hours\\x12\\x08\\x12\\x06\\n\\x04\\x00\\x00\\x00A\\n\\x14\\n\\x06gender\\x12\\n\\n\\x08\\n\\x06Female'],\n",
      "      dtype=object)>,) and kwargs: {} for signature: (*, age_xf: TensorSpec(shape=(None, 1), dtype=tf.float32, name='age_xf'), attendance_percentage_xf: TensorSpec(shape=(None, 1), dtype=tf.float32, name='attendance_percentage_xf'), exercise_frequency_xf: TensorSpec(shape=(None, 1), dtype=tf.float32, name='exercise_frequency_xf'), mental_health_rating_xf: TensorSpec(shape=(None, 1), dtype=tf.float32, name='mental_health_rating_xf'), netflix_hours_xf: TensorSpec(shape=(None, 1), dtype=tf.float32, name='netflix_hours_xf'), sleep_hours_xf: TensorSpec(shape=(None, 1), dtype=tf.float32, name='sleep_hours_xf'), social_media_hours_xf: TensorSpec(shape=(None, 1), dtype=tf.float32, name='social_media_hours_xf'), study_hours_per_day_xf: TensorSpec(shape=(None, 1), dtype=tf.float32, name='study_hours_per_day_xf')) -> Dict[['dense_5', TensorSpec(shape=(None, 1), dtype=tf.float32, name='dense_5')]].\n",
      "\n",
      "During handling of the above exception, another exception occurred:\n",
      "\n",
      "Traceback (most recent call last):\n",
      "  File \"/mnt/d/proyek1/mlops/lib/python3.10/site-packages/tensorflow/python/eager/polymorphic_function/concrete_function.py\", line 1183, in _call_impl\n",
      "    return self._call_with_flat_signature(args, kwargs)\n",
      "  File \"/mnt/d/proyek1/mlops/lib/python3.10/site-packages/tensorflow/python/eager/polymorphic_function/concrete_function.py\", line 1208, in _call_with_flat_signature\n",
      "    raise TypeError(\n",
      "TypeError: signature_wrapper(age_xf, attendance_percentage_xf, exercise_frequency_xf, mental_health_rating_xf, netflix_hours_xf, sleep_hours_xf, social_media_hours_xf, study_hours_per_day_xf) takes 0 positional arguments, got 1.\n",
      "\n",
      "During handling of the above exception, another exception occurred:\n",
      "\n",
      "Traceback (most recent call last):\n",
      "  File \"/mnt/d/proyek1/mlops/lib/python3.10/site-packages/tensorflow_model_analysis/utils/model_util.py\", line 1032, in _batch_reducible_process\n",
      "    outputs = signature(tf.constant(inputs, dtype=tf.string))\n",
      "  File \"/mnt/d/proyek1/mlops/lib/python3.10/site-packages/tensorflow/python/eager/polymorphic_function/concrete_function.py\", line 1171, in __call__\n",
      "    return self._call_impl(args, kwargs)\n",
      "  File \"/mnt/d/proyek1/mlops/lib/python3.10/site-packages/tensorflow/python/eager/polymorphic_function/concrete_function.py\", line 1185, in _call_impl\n",
      "    raise TypeError(  # pylint: disable=raise-missing-from\n",
      "TypeError: Binding inputs to tf.function failed due to `too many positional arguments`. Received args: (<tf.Tensor: shape=(1,), dtype=string, numpy=\n",
      "array([b'\\n\\xcf\\x03\\n\\x19\\n\\rnetflix_hours\\x12\\x08\\x12\\x06\\n\\x04\\xcd\\xcc\\x8c?\\n\\x16\\n\\nexam_score\\x12\\x08\\x12\\x06\\n\\x04\\xcd\\xcc`B\\n\\x18\\n\\x0cdiet_quality\\x12\\x08\\n\\x06\\n\\x04Fair\\n\\x0c\\n\\x03age\\x12\\x05\\x1a\\x03\\n\\x01\\x17\\n\\x1f\\n\\x10internet_quality\\x12\\x0b\\n\\t\\n\\x07Average\\n\\x1d\\n\\x14mental_health_rating\\x12\\x05\\x1a\\x03\\n\\x01\\x08\\n\\x1f\\n\\x13study_hours_per_day\\x12\\x08\\x12\\x06\\n\\x04\\x00\\x00\\x00\\x00\\n!\\n\\x15attendance_percentage\\x12\\x08\\x12\\x06\\n\\x04\\x00\\x00\\xaaB\\n\\x1b\\n\\x12exercise_frequency\\x12\\x05\\x1a\\x03\\n\\x01\\x06\\n\\x17\\n\\rpart_time_job\\x12\\x06\\n\\x04\\n\\x02No\\n&\\n\\x18parental_education_level\\x12\\n\\n\\x08\\n\\x06Master\\n\\x1e\\n\\x12social_media_hours\\x12\\x08\\x12\\x06\\n\\x04\\x9a\\x99\\x99?\\n\\x17\\n\\nstudent_id\\x12\\t\\n\\x07\\n\\x05S1000\\n(\\n\\x1dextracurricular_participation\\x12\\x07\\n\\x05\\n\\x03Yes\\n\\x17\\n\\x0bsleep_hours\\x12\\x08\\x12\\x06\\n\\x04\\x00\\x00\\x00A\\n\\x14\\n\\x06gender\\x12\\n\\n\\x08\\n\\x06Female'],\n",
      "      dtype=object)>,) and kwargs: {} for signature: (*, age_xf: TensorSpec(shape=(None, 1), dtype=tf.float32, name='age_xf'), attendance_percentage_xf: TensorSpec(shape=(None, 1), dtype=tf.float32, name='attendance_percentage_xf'), exercise_frequency_xf: TensorSpec(shape=(None, 1), dtype=tf.float32, name='exercise_frequency_xf'), mental_health_rating_xf: TensorSpec(shape=(None, 1), dtype=tf.float32, name='mental_health_rating_xf'), netflix_hours_xf: TensorSpec(shape=(None, 1), dtype=tf.float32, name='netflix_hours_xf'), sleep_hours_xf: TensorSpec(shape=(None, 1), dtype=tf.float32, name='sleep_hours_xf'), social_media_hours_xf: TensorSpec(shape=(None, 1), dtype=tf.float32, name='social_media_hours_xf'), study_hours_per_day_xf: TensorSpec(shape=(None, 1), dtype=tf.float32, name='study_hours_per_day_xf')) -> Dict[['dense_5', TensorSpec(shape=(None, 1), dtype=tf.float32, name='dense_5')]].\n",
      "Fallback to flat signature also failed due to: signature_wrapper(age_xf, attendance_percentage_xf, exercise_frequency_xf, mental_health_rating_xf, netflix_hours_xf, sleep_hours_xf, social_media_hours_xf, study_hours_per_day_xf) takes 0 positional arguments, got 1.\n",
      "\n",
      "The above exception was the direct cause of the following exception:\n",
      "\n",
      "Traceback (most recent call last):\n",
      "  File \"apache_beam/runners/common.py\", line 1498, in apache_beam.runners.common.DoFnRunner.process\n",
      "  File \"apache_beam/runners/common.py\", line 685, in apache_beam.runners.common.SimpleInvoker.invoke_process\n",
      "  File \"/mnt/d/proyek1/mlops/lib/python3.10/site-packages/tensorflow_model_analysis/utils/model_util.py\", line 866, in process\n",
      "    result.extend(self._batch_reducible_process(unbatched_element))\n",
      "  File \"/mnt/d/proyek1/mlops/lib/python3.10/site-packages/tensorflow_model_analysis/utils/model_util.py\", line 1034, in _batch_reducible_process\n",
      "    raise ValueError(\n",
      "ValueError: Fail to call signature func with signature_name: serving_default.\n",
      "              the inputs are:\n",
      " [b'\\n\\xcf\\x03\\n\\x19\\n\\rnetflix_hours\\x12\\x08\\x12\\x06\\n\\x04\\xcd\\xcc\\x8c?\\n\\x16\\n\\nexam_score\\x12\\x08\\x12\\x06\\n\\x04\\xcd\\xcc`B\\n\\x18\\n\\x0cdiet_quality\\x12\\x08\\n\\x06\\n\\x04Fair\\n\\x0c\\n\\x03age\\x12\\x05\\x1a\\x03\\n\\x01\\x17\\n\\x1f\\n\\x10internet_quality\\x12\\x0b\\n\\t\\n\\x07Average\\n\\x1d\\n\\x14mental_health_rating\\x12\\x05\\x1a\\x03\\n\\x01\\x08\\n\\x1f\\n\\x13study_hours_per_day\\x12\\x08\\x12\\x06\\n\\x04\\x00\\x00\\x00\\x00\\n!\\n\\x15attendance_percentage\\x12\\x08\\x12\\x06\\n\\x04\\x00\\x00\\xaaB\\n\\x1b\\n\\x12exercise_frequency\\x12\\x05\\x1a\\x03\\n\\x01\\x06\\n\\x17\\n\\rpart_time_job\\x12\\x06\\n\\x04\\n\\x02No\\n&\\n\\x18parental_education_level\\x12\\n\\n\\x08\\n\\x06Master\\n\\x1e\\n\\x12social_media_hours\\x12\\x08\\x12\\x06\\n\\x04\\x9a\\x99\\x99?\\n\\x17\\n\\nstudent_id\\x12\\t\\n\\x07\\n\\x05S1000\\n(\\n\\x1dextracurricular_participation\\x12\\x07\\n\\x05\\n\\x03Yes\\n\\x17\\n\\x0bsleep_hours\\x12\\x08\\x12\\x06\\n\\x04\\x00\\x00\\x00A\\n\\x14\\n\\x06gender\\x12\\n\\n\\x08\\n\\x06Female'].\n",
      "              The input_specs are:\n",
      " {'age_xf': TensorSpec(shape=(None, 1), dtype=tf.float32, name='age_xf'), 'study_hours_per_day_xf': TensorSpec(shape=(None, 1), dtype=tf.float32, name='study_hours_per_day_xf'), 'social_media_hours_xf': TensorSpec(shape=(None, 1), dtype=tf.float32, name='social_media_hours_xf'), 'netflix_hours_xf': TensorSpec(shape=(None, 1), dtype=tf.float32, name='netflix_hours_xf'), 'attendance_percentage_xf': TensorSpec(shape=(None, 1), dtype=tf.float32, name='attendance_percentage_xf'), 'sleep_hours_xf': TensorSpec(shape=(None, 1), dtype=tf.float32, name='sleep_hours_xf'), 'mental_health_rating_xf': TensorSpec(shape=(None, 1), dtype=tf.float32, name='mental_health_rating_xf'), 'exercise_frequency_xf': TensorSpec(shape=(None, 1), dtype=tf.float32, name='exercise_frequency_xf')}.\n"
     ]
    },
    {
     "ename": "ValueError",
     "evalue": "Fail to call signature func with signature_name: serving_default.\n              the inputs are:\n [b'\\n\\xcf\\x03\\n\\x19\\n\\rnetflix_hours\\x12\\x08\\x12\\x06\\n\\x04\\xcd\\xcc\\x8c?\\n\\x16\\n\\nexam_score\\x12\\x08\\x12\\x06\\n\\x04\\xcd\\xcc`B\\n\\x18\\n\\x0cdiet_quality\\x12\\x08\\n\\x06\\n\\x04Fair\\n\\x0c\\n\\x03age\\x12\\x05\\x1a\\x03\\n\\x01\\x17\\n\\x1f\\n\\x10internet_quality\\x12\\x0b\\n\\t\\n\\x07Average\\n\\x1d\\n\\x14mental_health_rating\\x12\\x05\\x1a\\x03\\n\\x01\\x08\\n\\x1f\\n\\x13study_hours_per_day\\x12\\x08\\x12\\x06\\n\\x04\\x00\\x00\\x00\\x00\\n!\\n\\x15attendance_percentage\\x12\\x08\\x12\\x06\\n\\x04\\x00\\x00\\xaaB\\n\\x1b\\n\\x12exercise_frequency\\x12\\x05\\x1a\\x03\\n\\x01\\x06\\n\\x17\\n\\rpart_time_job\\x12\\x06\\n\\x04\\n\\x02No\\n&\\n\\x18parental_education_level\\x12\\n\\n\\x08\\n\\x06Master\\n\\x1e\\n\\x12social_media_hours\\x12\\x08\\x12\\x06\\n\\x04\\x9a\\x99\\x99?\\n\\x17\\n\\nstudent_id\\x12\\t\\n\\x07\\n\\x05S1000\\n(\\n\\x1dextracurricular_participation\\x12\\x07\\n\\x05\\n\\x03Yes\\n\\x17\\n\\x0bsleep_hours\\x12\\x08\\x12\\x06\\n\\x04\\x00\\x00\\x00A\\n\\x14\\n\\x06gender\\x12\\n\\n\\x08\\n\\x06Female'].\n              The input_specs are:\n {'age_xf': TensorSpec(shape=(None, 1), dtype=tf.float32, name='age_xf'), 'study_hours_per_day_xf': TensorSpec(shape=(None, 1), dtype=tf.float32, name='study_hours_per_day_xf'), 'social_media_hours_xf': TensorSpec(shape=(None, 1), dtype=tf.float32, name='social_media_hours_xf'), 'netflix_hours_xf': TensorSpec(shape=(None, 1), dtype=tf.float32, name='netflix_hours_xf'), 'attendance_percentage_xf': TensorSpec(shape=(None, 1), dtype=tf.float32, name='attendance_percentage_xf'), 'sleep_hours_xf': TensorSpec(shape=(None, 1), dtype=tf.float32, name='sleep_hours_xf'), 'mental_health_rating_xf': TensorSpec(shape=(None, 1), dtype=tf.float32, name='mental_health_rating_xf'), 'exercise_frequency_xf': TensorSpec(shape=(None, 1), dtype=tf.float32, name='exercise_frequency_xf')}. [while running 'ExtractEvaluateAndWriteResults/ExtractAndEvaluate/ExtractPredictions/Inference']",
     "output_type": "error",
     "traceback": [
      "\u001b[0;31m---------------------------------------------------------------------------\u001b[0m",
      "\u001b[0;31mTypeError\u001b[0m                                 Traceback (most recent call last)",
      "\u001b[0;32m/mnt/d/proyek1/mlops/lib/python3.10/site-packages/tensorflow/python/eager/polymorphic_function/function_type_utils.py\u001b[0m in \u001b[0;36mbind_function_inputs\u001b[0;34m(args, kwargs, function_type, default_values)\u001b[0m\n\u001b[1;32m    441\u001b[0m   \u001b[0;32mtry\u001b[0m\u001b[0;34m:\u001b[0m\u001b[0;34m\u001b[0m\u001b[0;34m\u001b[0m\u001b[0m\n\u001b[0;32m--> 442\u001b[0;31m     bound_arguments = function_type.bind_with_defaults(\n\u001b[0m\u001b[1;32m    443\u001b[0m         \u001b[0margs\u001b[0m\u001b[0;34m,\u001b[0m \u001b[0msanitized_kwargs\u001b[0m\u001b[0;34m,\u001b[0m \u001b[0mdefault_values\u001b[0m\u001b[0;34m\u001b[0m\u001b[0;34m\u001b[0m\u001b[0m\n",
      "\u001b[0;32m/mnt/d/proyek1/mlops/lib/python3.10/site-packages/tensorflow/core/function/polymorphism/function_type.py\u001b[0m in \u001b[0;36mbind_with_defaults\u001b[0;34m(self, args, kwargs, default_values)\u001b[0m\n\u001b[1;32m    263\u001b[0m     \u001b[0;34m\"\"\"Returns BoundArguments with default values filled in.\"\"\"\u001b[0m\u001b[0;34m\u001b[0m\u001b[0;34m\u001b[0m\u001b[0m\n\u001b[0;32m--> 264\u001b[0;31m     \u001b[0mbound_arguments\u001b[0m \u001b[0;34m=\u001b[0m \u001b[0mself\u001b[0m\u001b[0;34m.\u001b[0m\u001b[0mbind\u001b[0m\u001b[0;34m(\u001b[0m\u001b[0;34m*\u001b[0m\u001b[0margs\u001b[0m\u001b[0;34m,\u001b[0m \u001b[0;34m**\u001b[0m\u001b[0mkwargs\u001b[0m\u001b[0;34m)\u001b[0m\u001b[0;34m\u001b[0m\u001b[0;34m\u001b[0m\u001b[0m\n\u001b[0m\u001b[1;32m    265\u001b[0m     \u001b[0mbound_arguments\u001b[0m\u001b[0;34m.\u001b[0m\u001b[0mapply_defaults\u001b[0m\u001b[0;34m(\u001b[0m\u001b[0;34m)\u001b[0m\u001b[0;34m\u001b[0m\u001b[0;34m\u001b[0m\u001b[0m\n",
      "\u001b[0;32m/usr/lib/python3.10/inspect.py\u001b[0m in \u001b[0;36mbind\u001b[0;34m(self, *args, **kwargs)\u001b[0m\n\u001b[1;32m   3185\u001b[0m         \"\"\"\n\u001b[0;32m-> 3186\u001b[0;31m         \u001b[0;32mreturn\u001b[0m \u001b[0mself\u001b[0m\u001b[0;34m.\u001b[0m\u001b[0m_bind\u001b[0m\u001b[0;34m(\u001b[0m\u001b[0margs\u001b[0m\u001b[0;34m,\u001b[0m \u001b[0mkwargs\u001b[0m\u001b[0;34m)\u001b[0m\u001b[0;34m\u001b[0m\u001b[0;34m\u001b[0m\u001b[0m\n\u001b[0m\u001b[1;32m   3187\u001b[0m \u001b[0;34m\u001b[0m\u001b[0m\n",
      "\u001b[0;32m/usr/lib/python3.10/inspect.py\u001b[0m in \u001b[0;36m_bind\u001b[0;34m(self, args, kwargs, partial)\u001b[0m\n\u001b[1;32m   3111\u001b[0m                         \u001b[0;31m# argument\u001b[0m\u001b[0;34m\u001b[0m\u001b[0;34m\u001b[0m\u001b[0m\n\u001b[0;32m-> 3112\u001b[0;31m                         raise TypeError(\n\u001b[0m\u001b[1;32m   3113\u001b[0m                             'too many positional arguments') from None\n",
      "\u001b[0;31mTypeError\u001b[0m: too many positional arguments",
      "\nThe above exception was the direct cause of the following exception:\n",
      "\u001b[0;31mTypeError\u001b[0m                                 Traceback (most recent call last)",
      "\u001b[0;32m/mnt/d/proyek1/mlops/lib/python3.10/site-packages/tensorflow/python/eager/polymorphic_function/concrete_function.py\u001b[0m in \u001b[0;36m_call_impl\u001b[0;34m(self, args, kwargs)\u001b[0m\n\u001b[1;32m   1179\u001b[0m         \u001b[0;32mtry\u001b[0m\u001b[0;34m:\u001b[0m\u001b[0;34m\u001b[0m\u001b[0;34m\u001b[0m\u001b[0m\n\u001b[0;32m-> 1180\u001b[0;31m           \u001b[0;32mreturn\u001b[0m \u001b[0mself\u001b[0m\u001b[0;34m.\u001b[0m\u001b[0m_call_with_structured_signature\u001b[0m\u001b[0;34m(\u001b[0m\u001b[0margs\u001b[0m\u001b[0;34m,\u001b[0m \u001b[0mkwargs\u001b[0m\u001b[0;34m)\u001b[0m\u001b[0;34m\u001b[0m\u001b[0;34m\u001b[0m\u001b[0m\n\u001b[0m\u001b[1;32m   1181\u001b[0m         \u001b[0;32mexcept\u001b[0m \u001b[0mTypeError\u001b[0m \u001b[0;32mas\u001b[0m \u001b[0mstructured_err\u001b[0m\u001b[0;34m:\u001b[0m\u001b[0;34m\u001b[0m\u001b[0;34m\u001b[0m\u001b[0m\n",
      "\u001b[0;32m/mnt/d/proyek1/mlops/lib/python3.10/site-packages/tensorflow/python/eager/polymorphic_function/concrete_function.py\u001b[0m in \u001b[0;36m_call_with_structured_signature\u001b[0;34m(self, args, kwargs)\u001b[0m\n\u001b[1;32m   1259\u001b[0m     bound_args = (\n\u001b[0;32m-> 1260\u001b[0;31m         function_type_utils.canonicalize_function_inputs(\n\u001b[0m\u001b[1;32m   1261\u001b[0m             args, kwargs, self.function_type)\n",
      "\u001b[0;32m/mnt/d/proyek1/mlops/lib/python3.10/site-packages/tensorflow/python/eager/polymorphic_function/function_type_utils.py\u001b[0m in \u001b[0;36mcanonicalize_function_inputs\u001b[0;34m(args, kwargs, function_type, default_values, is_pure)\u001b[0m\n\u001b[1;32m    421\u001b[0m     \u001b[0margs\u001b[0m\u001b[0;34m,\u001b[0m \u001b[0mkwargs\u001b[0m \u001b[0;34m=\u001b[0m \u001b[0m_convert_variables_to_tensors\u001b[0m\u001b[0;34m(\u001b[0m\u001b[0margs\u001b[0m\u001b[0;34m,\u001b[0m \u001b[0mkwargs\u001b[0m\u001b[0;34m)\u001b[0m\u001b[0;34m\u001b[0m\u001b[0;34m\u001b[0m\u001b[0m\n\u001b[0;32m--> 422\u001b[0;31m   bound_arguments = bind_function_inputs(\n\u001b[0m\u001b[1;32m    423\u001b[0m       \u001b[0margs\u001b[0m\u001b[0;34m,\u001b[0m \u001b[0mkwargs\u001b[0m\u001b[0;34m,\u001b[0m \u001b[0mfunction_type\u001b[0m\u001b[0;34m,\u001b[0m \u001b[0mdefault_values\u001b[0m\u001b[0;34m\u001b[0m\u001b[0;34m\u001b[0m\u001b[0m\n",
      "\u001b[0;32m/mnt/d/proyek1/mlops/lib/python3.10/site-packages/tensorflow/python/eager/polymorphic_function/function_type_utils.py\u001b[0m in \u001b[0;36mbind_function_inputs\u001b[0;34m(args, kwargs, function_type, default_values)\u001b[0m\n\u001b[1;32m    445\u001b[0m   \u001b[0;32mexcept\u001b[0m \u001b[0mException\u001b[0m \u001b[0;32mas\u001b[0m \u001b[0me\u001b[0m\u001b[0;34m:\u001b[0m\u001b[0;34m\u001b[0m\u001b[0;34m\u001b[0m\u001b[0m\n\u001b[0;32m--> 446\u001b[0;31m     raise TypeError(\n\u001b[0m\u001b[1;32m    447\u001b[0m         \u001b[0;34mf\"Binding inputs to tf.function failed due to `{e}`. \"\u001b[0m\u001b[0;34m\u001b[0m\u001b[0;34m\u001b[0m\u001b[0m\n",
      "\u001b[0;31mTypeError\u001b[0m: Binding inputs to tf.function failed due to `too many positional arguments`. Received args: (<tf.Tensor: shape=(1,), dtype=string, numpy=\narray([b'\\n\\xcf\\x03\\n\\x19\\n\\rnetflix_hours\\x12\\x08\\x12\\x06\\n\\x04\\xcd\\xcc\\x8c?\\n\\x16\\n\\nexam_score\\x12\\x08\\x12\\x06\\n\\x04\\xcd\\xcc`B\\n\\x18\\n\\x0cdiet_quality\\x12\\x08\\n\\x06\\n\\x04Fair\\n\\x0c\\n\\x03age\\x12\\x05\\x1a\\x03\\n\\x01\\x17\\n\\x1f\\n\\x10internet_quality\\x12\\x0b\\n\\t\\n\\x07Average\\n\\x1d\\n\\x14mental_health_rating\\x12\\x05\\x1a\\x03\\n\\x01\\x08\\n\\x1f\\n\\x13study_hours_per_day\\x12\\x08\\x12\\x06\\n\\x04\\x00\\x00\\x00\\x00\\n!\\n\\x15attendance_percentage\\x12\\x08\\x12\\x06\\n\\x04\\x00\\x00\\xaaB\\n\\x1b\\n\\x12exercise_frequency\\x12\\x05\\x1a\\x03\\n\\x01\\x06\\n\\x17\\n\\rpart_time_job\\x12\\x06\\n\\x04\\n\\x02No\\n&\\n\\x18parental_education_level\\x12\\n\\n\\x08\\n\\x06Master\\n\\x1e\\n\\x12social_media_hours\\x12\\x08\\x12\\x06\\n\\x04\\x9a\\x99\\x99?\\n\\x17\\n\\nstudent_id\\x12\\t\\n\\x07\\n\\x05S1000\\n(\\n\\x1dextracurricular_participation\\x12\\x07\\n\\x05\\n\\x03Yes\\n\\x17\\n\\x0bsleep_hours\\x12\\x08\\x12\\x06\\n\\x04\\x00\\x00\\x00A\\n\\x14\\n\\x06gender\\x12\\n\\n\\x08\\n\\x06Female'],\n      dtype=object)>,) and kwargs: {} for signature: (*, age_xf: TensorSpec(shape=(None, 1), dtype=tf.float32, name='age_xf'), attendance_percentage_xf: TensorSpec(shape=(None, 1), dtype=tf.float32, name='attendance_percentage_xf'), exercise_frequency_xf: TensorSpec(shape=(None, 1), dtype=tf.float32, name='exercise_frequency_xf'), mental_health_rating_xf: TensorSpec(shape=(None, 1), dtype=tf.float32, name='mental_health_rating_xf'), netflix_hours_xf: TensorSpec(shape=(None, 1), dtype=tf.float32, name='netflix_hours_xf'), sleep_hours_xf: TensorSpec(shape=(None, 1), dtype=tf.float32, name='sleep_hours_xf'), social_media_hours_xf: TensorSpec(shape=(None, 1), dtype=tf.float32, name='social_media_hours_xf'), study_hours_per_day_xf: TensorSpec(shape=(None, 1), dtype=tf.float32, name='study_hours_per_day_xf')) -> Dict[['dense_5', TensorSpec(shape=(None, 1), dtype=tf.float32, name='dense_5')]].",
      "\nDuring handling of the above exception, another exception occurred:\n",
      "\u001b[0;31mTypeError\u001b[0m                                 Traceback (most recent call last)",
      "\u001b[0;32m/mnt/d/proyek1/mlops/lib/python3.10/site-packages/tensorflow/python/eager/polymorphic_function/concrete_function.py\u001b[0m in \u001b[0;36m_call_impl\u001b[0;34m(self, args, kwargs)\u001b[0m\n\u001b[1;32m   1182\u001b[0m           \u001b[0;32mtry\u001b[0m\u001b[0;34m:\u001b[0m\u001b[0;34m\u001b[0m\u001b[0;34m\u001b[0m\u001b[0m\n\u001b[0;32m-> 1183\u001b[0;31m             \u001b[0;32mreturn\u001b[0m \u001b[0mself\u001b[0m\u001b[0;34m.\u001b[0m\u001b[0m_call_with_flat_signature\u001b[0m\u001b[0;34m(\u001b[0m\u001b[0margs\u001b[0m\u001b[0;34m,\u001b[0m \u001b[0mkwargs\u001b[0m\u001b[0;34m)\u001b[0m\u001b[0;34m\u001b[0m\u001b[0;34m\u001b[0m\u001b[0m\n\u001b[0m\u001b[1;32m   1184\u001b[0m           \u001b[0;32mexcept\u001b[0m \u001b[0;34m(\u001b[0m\u001b[0mTypeError\u001b[0m\u001b[0;34m,\u001b[0m \u001b[0mValueError\u001b[0m\u001b[0;34m)\u001b[0m \u001b[0;32mas\u001b[0m \u001b[0mflat_err\u001b[0m\u001b[0;34m:\u001b[0m\u001b[0;34m\u001b[0m\u001b[0;34m\u001b[0m\u001b[0m\n",
      "\u001b[0;32m/mnt/d/proyek1/mlops/lib/python3.10/site-packages/tensorflow/python/eager/polymorphic_function/concrete_function.py\u001b[0m in \u001b[0;36m_call_with_flat_signature\u001b[0;34m(self, args, kwargs)\u001b[0m\n\u001b[1;32m   1207\u001b[0m     \u001b[0;32mif\u001b[0m \u001b[0mlen\u001b[0m\u001b[0;34m(\u001b[0m\u001b[0margs\u001b[0m\u001b[0;34m)\u001b[0m \u001b[0;34m>\u001b[0m \u001b[0mself\u001b[0m\u001b[0;34m.\u001b[0m\u001b[0m_num_positional_args\u001b[0m\u001b[0;34m:\u001b[0m\u001b[0;34m\u001b[0m\u001b[0;34m\u001b[0m\u001b[0m\n\u001b[0;32m-> 1208\u001b[0;31m       raise TypeError(\n\u001b[0m\u001b[1;32m   1209\u001b[0m           \u001b[0;34mf\"{self._flat_signature_summary()} takes {self._num_positional_args} \"\u001b[0m\u001b[0;34m\u001b[0m\u001b[0;34m\u001b[0m\u001b[0m\n",
      "\u001b[0;31mTypeError\u001b[0m: signature_wrapper(age_xf, attendance_percentage_xf, exercise_frequency_xf, mental_health_rating_xf, netflix_hours_xf, sleep_hours_xf, social_media_hours_xf, study_hours_per_day_xf) takes 0 positional arguments, got 1.",
      "\nDuring handling of the above exception, another exception occurred:\n",
      "\u001b[0;31mTypeError\u001b[0m                                 Traceback (most recent call last)",
      "\u001b[0;32m/mnt/d/proyek1/mlops/lib/python3.10/site-packages/tensorflow_model_analysis/utils/model_util.py\u001b[0m in \u001b[0;36m_batch_reducible_process\u001b[0;34m(self, batched_extract)\u001b[0m\n\u001b[1;32m   1031\u001b[0m           \u001b[0;32melse\u001b[0m\u001b[0;34m:\u001b[0m\u001b[0;34m\u001b[0m\u001b[0;34m\u001b[0m\u001b[0m\n\u001b[0;32m-> 1032\u001b[0;31m             \u001b[0moutputs\u001b[0m \u001b[0;34m=\u001b[0m \u001b[0msignature\u001b[0m\u001b[0;34m(\u001b[0m\u001b[0mtf\u001b[0m\u001b[0;34m.\u001b[0m\u001b[0mconstant\u001b[0m\u001b[0;34m(\u001b[0m\u001b[0minputs\u001b[0m\u001b[0;34m,\u001b[0m \u001b[0mdtype\u001b[0m\u001b[0;34m=\u001b[0m\u001b[0mtf\u001b[0m\u001b[0;34m.\u001b[0m\u001b[0mstring\u001b[0m\u001b[0;34m)\u001b[0m\u001b[0;34m)\u001b[0m\u001b[0;34m\u001b[0m\u001b[0;34m\u001b[0m\u001b[0m\n\u001b[0m\u001b[1;32m   1033\u001b[0m         \u001b[0;32mexcept\u001b[0m \u001b[0;34m(\u001b[0m\u001b[0mTypeError\u001b[0m\u001b[0;34m,\u001b[0m \u001b[0mtf\u001b[0m\u001b[0;34m.\u001b[0m\u001b[0merrors\u001b[0m\u001b[0;34m.\u001b[0m\u001b[0mInvalidArgumentError\u001b[0m\u001b[0;34m)\u001b[0m \u001b[0;32mas\u001b[0m \u001b[0mexc\u001b[0m\u001b[0;34m:\u001b[0m\u001b[0;34m\u001b[0m\u001b[0;34m\u001b[0m\u001b[0m\n",
      "\u001b[0;32m/mnt/d/proyek1/mlops/lib/python3.10/site-packages/tensorflow/python/eager/polymorphic_function/concrete_function.py\u001b[0m in \u001b[0;36m__call__\u001b[0;34m(self, *args, **kwargs)\u001b[0m\n\u001b[1;32m   1170\u001b[0m     \"\"\"\n\u001b[0;32m-> 1171\u001b[0;31m     \u001b[0;32mreturn\u001b[0m \u001b[0mself\u001b[0m\u001b[0;34m.\u001b[0m\u001b[0m_call_impl\u001b[0m\u001b[0;34m(\u001b[0m\u001b[0margs\u001b[0m\u001b[0;34m,\u001b[0m \u001b[0mkwargs\u001b[0m\u001b[0;34m)\u001b[0m\u001b[0;34m\u001b[0m\u001b[0;34m\u001b[0m\u001b[0m\n\u001b[0m\u001b[1;32m   1172\u001b[0m \u001b[0;34m\u001b[0m\u001b[0m\n",
      "\u001b[0;32m/mnt/d/proyek1/mlops/lib/python3.10/site-packages/tensorflow/python/eager/polymorphic_function/concrete_function.py\u001b[0m in \u001b[0;36m_call_impl\u001b[0;34m(self, args, kwargs)\u001b[0m\n\u001b[1;32m   1184\u001b[0m           \u001b[0;32mexcept\u001b[0m \u001b[0;34m(\u001b[0m\u001b[0mTypeError\u001b[0m\u001b[0;34m,\u001b[0m \u001b[0mValueError\u001b[0m\u001b[0;34m)\u001b[0m \u001b[0;32mas\u001b[0m \u001b[0mflat_err\u001b[0m\u001b[0;34m:\u001b[0m\u001b[0;34m\u001b[0m\u001b[0;34m\u001b[0m\u001b[0m\n\u001b[0;32m-> 1185\u001b[0;31m             raise TypeError(  # pylint: disable=raise-missing-from\n\u001b[0m\u001b[1;32m   1186\u001b[0m                 \u001b[0mstr\u001b[0m\u001b[0;34m(\u001b[0m\u001b[0mstructured_err\u001b[0m\u001b[0;34m)\u001b[0m\u001b[0;34m\u001b[0m\u001b[0;34m\u001b[0m\u001b[0m\n",
      "\u001b[0;31mTypeError\u001b[0m: Binding inputs to tf.function failed due to `too many positional arguments`. Received args: (<tf.Tensor: shape=(1,), dtype=string, numpy=\narray([b'\\n\\xcf\\x03\\n\\x19\\n\\rnetflix_hours\\x12\\x08\\x12\\x06\\n\\x04\\xcd\\xcc\\x8c?\\n\\x16\\n\\nexam_score\\x12\\x08\\x12\\x06\\n\\x04\\xcd\\xcc`B\\n\\x18\\n\\x0cdiet_quality\\x12\\x08\\n\\x06\\n\\x04Fair\\n\\x0c\\n\\x03age\\x12\\x05\\x1a\\x03\\n\\x01\\x17\\n\\x1f\\n\\x10internet_quality\\x12\\x0b\\n\\t\\n\\x07Average\\n\\x1d\\n\\x14mental_health_rating\\x12\\x05\\x1a\\x03\\n\\x01\\x08\\n\\x1f\\n\\x13study_hours_per_day\\x12\\x08\\x12\\x06\\n\\x04\\x00\\x00\\x00\\x00\\n!\\n\\x15attendance_percentage\\x12\\x08\\x12\\x06\\n\\x04\\x00\\x00\\xaaB\\n\\x1b\\n\\x12exercise_frequency\\x12\\x05\\x1a\\x03\\n\\x01\\x06\\n\\x17\\n\\rpart_time_job\\x12\\x06\\n\\x04\\n\\x02No\\n&\\n\\x18parental_education_level\\x12\\n\\n\\x08\\n\\x06Master\\n\\x1e\\n\\x12social_media_hours\\x12\\x08\\x12\\x06\\n\\x04\\x9a\\x99\\x99?\\n\\x17\\n\\nstudent_id\\x12\\t\\n\\x07\\n\\x05S1000\\n(\\n\\x1dextracurricular_participation\\x12\\x07\\n\\x05\\n\\x03Yes\\n\\x17\\n\\x0bsleep_hours\\x12\\x08\\x12\\x06\\n\\x04\\x00\\x00\\x00A\\n\\x14\\n\\x06gender\\x12\\n\\n\\x08\\n\\x06Female'],\n      dtype=object)>,) and kwargs: {} for signature: (*, age_xf: TensorSpec(shape=(None, 1), dtype=tf.float32, name='age_xf'), attendance_percentage_xf: TensorSpec(shape=(None, 1), dtype=tf.float32, name='attendance_percentage_xf'), exercise_frequency_xf: TensorSpec(shape=(None, 1), dtype=tf.float32, name='exercise_frequency_xf'), mental_health_rating_xf: TensorSpec(shape=(None, 1), dtype=tf.float32, name='mental_health_rating_xf'), netflix_hours_xf: TensorSpec(shape=(None, 1), dtype=tf.float32, name='netflix_hours_xf'), sleep_hours_xf: TensorSpec(shape=(None, 1), dtype=tf.float32, name='sleep_hours_xf'), social_media_hours_xf: TensorSpec(shape=(None, 1), dtype=tf.float32, name='social_media_hours_xf'), study_hours_per_day_xf: TensorSpec(shape=(None, 1), dtype=tf.float32, name='study_hours_per_day_xf')) -> Dict[['dense_5', TensorSpec(shape=(None, 1), dtype=tf.float32, name='dense_5')]].\nFallback to flat signature also failed due to: signature_wrapper(age_xf, attendance_percentage_xf, exercise_frequency_xf, mental_health_rating_xf, netflix_hours_xf, sleep_hours_xf, social_media_hours_xf, study_hours_per_day_xf) takes 0 positional arguments, got 1.",
      "\nThe above exception was the direct cause of the following exception:\n",
      "\u001b[0;31mValueError\u001b[0m                                Traceback (most recent call last)",
      "\u001b[0;32m/mnt/d/proyek1/mlops/lib/python3.10/site-packages/apache_beam/runners/common.cpython-310-x86_64-linux-gnu.so\u001b[0m in \u001b[0;36mapache_beam.runners.common.DoFnRunner.process\u001b[0;34m()\u001b[0m\n",
      "\u001b[0;32m/mnt/d/proyek1/mlops/lib/python3.10/site-packages/apache_beam/runners/common.cpython-310-x86_64-linux-gnu.so\u001b[0m in \u001b[0;36mapache_beam.runners.common.SimpleInvoker.invoke_process\u001b[0;34m()\u001b[0m\n",
      "\u001b[0;32m/mnt/d/proyek1/mlops/lib/python3.10/site-packages/tensorflow_model_analysis/utils/model_util.py\u001b[0m in \u001b[0;36mprocess\u001b[0;34m(self, element)\u001b[0m\n\u001b[1;32m    865\u001b[0m         \u001b[0mself\u001b[0m\u001b[0;34m.\u001b[0m\u001b[0m_batch_size\u001b[0m\u001b[0;34m.\u001b[0m\u001b[0mupdate\u001b[0m\u001b[0;34m(\u001b[0m\u001b[0;36m1\u001b[0m\u001b[0;34m)\u001b[0m\u001b[0;34m\u001b[0m\u001b[0;34m\u001b[0m\u001b[0m\n\u001b[0;32m--> 866\u001b[0;31m         \u001b[0mresult\u001b[0m\u001b[0;34m.\u001b[0m\u001b[0mextend\u001b[0m\u001b[0;34m(\u001b[0m\u001b[0mself\u001b[0m\u001b[0;34m.\u001b[0m\u001b[0m_batch_reducible_process\u001b[0m\u001b[0;34m(\u001b[0m\u001b[0munbatched_element\u001b[0m\u001b[0;34m)\u001b[0m\u001b[0;34m)\u001b[0m\u001b[0;34m\u001b[0m\u001b[0;34m\u001b[0m\u001b[0m\n\u001b[0m\u001b[1;32m    867\u001b[0m       \u001b[0mself\u001b[0m\u001b[0;34m.\u001b[0m\u001b[0m_num_instances\u001b[0m\u001b[0;34m.\u001b[0m\u001b[0minc\u001b[0m\u001b[0;34m(\u001b[0m\u001b[0mlen\u001b[0m\u001b[0;34m(\u001b[0m\u001b[0mresult\u001b[0m\u001b[0;34m)\u001b[0m\u001b[0;34m)\u001b[0m\u001b[0;34m\u001b[0m\u001b[0;34m\u001b[0m\u001b[0m\n",
      "\u001b[0;32m/mnt/d/proyek1/mlops/lib/python3.10/site-packages/tensorflow_model_analysis/utils/model_util.py\u001b[0m in \u001b[0;36m_batch_reducible_process\u001b[0;34m(self, batched_extract)\u001b[0m\n\u001b[1;32m   1033\u001b[0m         \u001b[0;32mexcept\u001b[0m \u001b[0;34m(\u001b[0m\u001b[0mTypeError\u001b[0m\u001b[0;34m,\u001b[0m \u001b[0mtf\u001b[0m\u001b[0;34m.\u001b[0m\u001b[0merrors\u001b[0m\u001b[0;34m.\u001b[0m\u001b[0mInvalidArgumentError\u001b[0m\u001b[0;34m)\u001b[0m \u001b[0;32mas\u001b[0m \u001b[0mexc\u001b[0m\u001b[0;34m:\u001b[0m\u001b[0;34m\u001b[0m\u001b[0;34m\u001b[0m\u001b[0m\n\u001b[0;32m-> 1034\u001b[0;31m           raise ValueError(\n\u001b[0m\u001b[1;32m   1035\u001b[0m               \"\"\"Fail to call signature func with signature_name: {}.\n",
      "\u001b[0;31mValueError\u001b[0m: Fail to call signature func with signature_name: serving_default.\n              the inputs are:\n [b'\\n\\xcf\\x03\\n\\x19\\n\\rnetflix_hours\\x12\\x08\\x12\\x06\\n\\x04\\xcd\\xcc\\x8c?\\n\\x16\\n\\nexam_score\\x12\\x08\\x12\\x06\\n\\x04\\xcd\\xcc`B\\n\\x18\\n\\x0cdiet_quality\\x12\\x08\\n\\x06\\n\\x04Fair\\n\\x0c\\n\\x03age\\x12\\x05\\x1a\\x03\\n\\x01\\x17\\n\\x1f\\n\\x10internet_quality\\x12\\x0b\\n\\t\\n\\x07Average\\n\\x1d\\n\\x14mental_health_rating\\x12\\x05\\x1a\\x03\\n\\x01\\x08\\n\\x1f\\n\\x13study_hours_per_day\\x12\\x08\\x12\\x06\\n\\x04\\x00\\x00\\x00\\x00\\n!\\n\\x15attendance_percentage\\x12\\x08\\x12\\x06\\n\\x04\\x00\\x00\\xaaB\\n\\x1b\\n\\x12exercise_frequency\\x12\\x05\\x1a\\x03\\n\\x01\\x06\\n\\x17\\n\\rpart_time_job\\x12\\x06\\n\\x04\\n\\x02No\\n&\\n\\x18parental_education_level\\x12\\n\\n\\x08\\n\\x06Master\\n\\x1e\\n\\x12social_media_hours\\x12\\x08\\x12\\x06\\n\\x04\\x9a\\x99\\x99?\\n\\x17\\n\\nstudent_id\\x12\\t\\n\\x07\\n\\x05S1000\\n(\\n\\x1dextracurricular_participation\\x12\\x07\\n\\x05\\n\\x03Yes\\n\\x17\\n\\x0bsleep_hours\\x12\\x08\\x12\\x06\\n\\x04\\x00\\x00\\x00A\\n\\x14\\n\\x06gender\\x12\\n\\n\\x08\\n\\x06Female'].\n              The input_specs are:\n {'age_xf': TensorSpec(shape=(None, 1), dtype=tf.float32, name='age_xf'), 'study_hours_per_day_xf': TensorSpec(shape=(None, 1), dtype=tf.float32, name='study_hours_per_day_xf'), 'social_media_hours_xf': TensorSpec(shape=(None, 1), dtype=tf.float32, name='social_media_hours_xf'), 'netflix_hours_xf': TensorSpec(shape=(None, 1), dtype=tf.float32, name='netflix_hours_xf'), 'attendance_percentage_xf': TensorSpec(shape=(None, 1), dtype=tf.float32, name='attendance_percentage_xf'), 'sleep_hours_xf': TensorSpec(shape=(None, 1), dtype=tf.float32, name='sleep_hours_xf'), 'mental_health_rating_xf': TensorSpec(shape=(None, 1), dtype=tf.float32, name='mental_health_rating_xf'), 'exercise_frequency_xf': TensorSpec(shape=(None, 1), dtype=tf.float32, name='exercise_frequency_xf')}.",
      "\nDuring handling of the above exception, another exception occurred:\n",
      "\u001b[0;31mValueError\u001b[0m                                Traceback (most recent call last)",
      "\u001b[0;32m/tmp/ipykernel_8772/2633113964.py\u001b[0m in \u001b[0;36m<cell line: 13>\u001b[0;34m()\u001b[0m\n\u001b[1;32m     11\u001b[0m     \u001b[0meval_config\u001b[0m\u001b[0;34m=\u001b[0m\u001b[0meval_config\u001b[0m\u001b[0;34m\u001b[0m\u001b[0;34m\u001b[0m\u001b[0m\n\u001b[1;32m     12\u001b[0m )\n\u001b[0;32m---> 13\u001b[0;31m \u001b[0mcontext\u001b[0m\u001b[0;34m.\u001b[0m\u001b[0mrun\u001b[0m\u001b[0;34m(\u001b[0m\u001b[0mevaluator\u001b[0m\u001b[0;34m)\u001b[0m\u001b[0;34m\u001b[0m\u001b[0;34m\u001b[0m\u001b[0m\n\u001b[0m\u001b[1;32m     14\u001b[0m \u001b[0mprint\u001b[0m\u001b[0;34m(\u001b[0m\u001b[0;34m\"✅ 9/9 Evaluator Selesai\"\u001b[0m\u001b[0;34m)\u001b[0m\u001b[0;34m\u001b[0m\u001b[0;34m\u001b[0m\u001b[0m\n\u001b[1;32m     15\u001b[0m \u001b[0;34m\u001b[0m\u001b[0m\n",
      "\u001b[0;32m/mnt/d/proyek1/mlops/lib/python3.10/site-packages/tfx/orchestration/experimental/interactive/notebook_utils.py\u001b[0m in \u001b[0;36mrun_if_ipython\u001b[0;34m(*args, **kwargs)\u001b[0m\n\u001b[1;32m     29\u001b[0m       \u001b[0;31m# __IPYTHON__ variable is set by IPython, see\u001b[0m\u001b[0;34m\u001b[0m\u001b[0;34m\u001b[0m\u001b[0m\n\u001b[1;32m     30\u001b[0m       \u001b[0;31m# https://ipython.org/ipython-doc/rel-0.10.2/html/interactive/reference.html#embedding-ipython.\u001b[0m\u001b[0;34m\u001b[0m\u001b[0;34m\u001b[0m\u001b[0m\n\u001b[0;32m---> 31\u001b[0;31m       \u001b[0;32mreturn\u001b[0m \u001b[0mfn\u001b[0m\u001b[0;34m(\u001b[0m\u001b[0;34m*\u001b[0m\u001b[0margs\u001b[0m\u001b[0;34m,\u001b[0m \u001b[0;34m**\u001b[0m\u001b[0mkwargs\u001b[0m\u001b[0;34m)\u001b[0m\u001b[0;34m\u001b[0m\u001b[0;34m\u001b[0m\u001b[0m\n\u001b[0m\u001b[1;32m     32\u001b[0m     \u001b[0;32melse\u001b[0m\u001b[0;34m:\u001b[0m\u001b[0;34m\u001b[0m\u001b[0;34m\u001b[0m\u001b[0m\n\u001b[1;32m     33\u001b[0m       logging.warning(\n",
      "\u001b[0;32m/mnt/d/proyek1/mlops/lib/python3.10/site-packages/tfx/orchestration/experimental/interactive/interactive_context.py\u001b[0m in \u001b[0;36mrun\u001b[0;34m(self, component, enable_cache, beam_pipeline_args)\u001b[0m\n\u001b[1;32m    162\u001b[0m         \u001b[0mtelemetry_utils\u001b[0m\u001b[0;34m.\u001b[0m\u001b[0mLABEL_TFX_RUNNER\u001b[0m\u001b[0;34m:\u001b[0m \u001b[0mrunner_label\u001b[0m\u001b[0;34m,\u001b[0m\u001b[0;34m\u001b[0m\u001b[0;34m\u001b[0m\u001b[0m\n\u001b[1;32m    163\u001b[0m     }):\n\u001b[0;32m--> 164\u001b[0;31m       \u001b[0mexecution_id\u001b[0m \u001b[0;34m=\u001b[0m \u001b[0mlauncher\u001b[0m\u001b[0;34m.\u001b[0m\u001b[0mlaunch\u001b[0m\u001b[0;34m(\u001b[0m\u001b[0;34m)\u001b[0m\u001b[0;34m.\u001b[0m\u001b[0mexecution_id\u001b[0m\u001b[0;34m\u001b[0m\u001b[0;34m\u001b[0m\u001b[0m\n\u001b[0m\u001b[1;32m    165\u001b[0m \u001b[0;34m\u001b[0m\u001b[0m\n\u001b[1;32m    166\u001b[0m     return execution_result.ExecutionResult(\n",
      "\u001b[0;32m/mnt/d/proyek1/mlops/lib/python3.10/site-packages/tfx/orchestration/launcher/base_component_launcher.py\u001b[0m in \u001b[0;36mlaunch\u001b[0;34m(self)\u001b[0m\n\u001b[1;32m    204\u001b[0m       \u001b[0;31m# be immutable in this context.\u001b[0m\u001b[0;34m\u001b[0m\u001b[0;34m\u001b[0m\u001b[0m\n\u001b[1;32m    205\u001b[0m       \u001b[0;31m# output_dict can still be changed, specifically properties.\u001b[0m\u001b[0;34m\u001b[0m\u001b[0;34m\u001b[0m\u001b[0m\n\u001b[0;32m--> 206\u001b[0;31m       self._run_executor(execution_decision.execution_id,\n\u001b[0m\u001b[1;32m    207\u001b[0m                          \u001b[0mcopy\u001b[0m\u001b[0;34m.\u001b[0m\u001b[0mdeepcopy\u001b[0m\u001b[0;34m(\u001b[0m\u001b[0mexecution_decision\u001b[0m\u001b[0;34m.\u001b[0m\u001b[0minput_dict\u001b[0m\u001b[0;34m)\u001b[0m\u001b[0;34m,\u001b[0m\u001b[0;34m\u001b[0m\u001b[0;34m\u001b[0m\u001b[0m\n\u001b[1;32m    208\u001b[0m                          \u001b[0mexecution_decision\u001b[0m\u001b[0;34m.\u001b[0m\u001b[0moutput_dict\u001b[0m\u001b[0;34m,\u001b[0m\u001b[0;34m\u001b[0m\u001b[0;34m\u001b[0m\u001b[0m\n",
      "\u001b[0;32m/mnt/d/proyek1/mlops/lib/python3.10/site-packages/tfx/orchestration/launcher/in_process_component_launcher.py\u001b[0m in \u001b[0;36m_run_executor\u001b[0;34m(self, execution_id, input_dict, output_dict, exec_properties)\u001b[0m\n\u001b[1;32m     71\u001b[0m     \u001b[0;31m# be immutable in this context.\u001b[0m\u001b[0;34m\u001b[0m\u001b[0;34m\u001b[0m\u001b[0m\n\u001b[1;32m     72\u001b[0m     \u001b[0;31m# output_dict can still be changed, specifically properties.\u001b[0m\u001b[0;34m\u001b[0m\u001b[0;34m\u001b[0m\u001b[0m\n\u001b[0;32m---> 73\u001b[0;31m     executor.Do(\n\u001b[0m\u001b[1;32m     74\u001b[0m         copy.deepcopy(input_dict), output_dict, copy.deepcopy(exec_properties))\n",
      "\u001b[0;32m/mnt/d/proyek1/mlops/lib/python3.10/site-packages/tfx/components/evaluator/executor.py\u001b[0m in \u001b[0;36mDo\u001b[0;34m(self, input_dict, output_dict, exec_properties)\u001b[0m\n\u001b[1;32m    243\u001b[0m     \u001b[0;31m# TODO(b/187122662): Move this to the ExecutorOperator or Launcher.\u001b[0m\u001b[0;34m\u001b[0m\u001b[0;34m\u001b[0m\u001b[0m\n\u001b[1;32m    244\u001b[0m     \u001b[0;32mwith\u001b[0m \u001b[0mudf_utils\u001b[0m\u001b[0;34m.\u001b[0m\u001b[0mTempPipInstallContext\u001b[0m\u001b[0;34m(\u001b[0m\u001b[0mextra_pip_packages\u001b[0m\u001b[0;34m)\u001b[0m\u001b[0;34m:\u001b[0m\u001b[0;34m\u001b[0m\u001b[0;34m\u001b[0m\u001b[0m\n\u001b[0;32m--> 245\u001b[0;31m       \u001b[0;32mwith\u001b[0m \u001b[0mself\u001b[0m\u001b[0;34m.\u001b[0m\u001b[0m_make_beam_pipeline\u001b[0m\u001b[0;34m(\u001b[0m\u001b[0;34m)\u001b[0m \u001b[0;32mas\u001b[0m \u001b[0mpipeline\u001b[0m\u001b[0;34m:\u001b[0m\u001b[0;34m\u001b[0m\u001b[0;34m\u001b[0m\u001b[0m\n\u001b[0m\u001b[1;32m    246\u001b[0m         \u001b[0mexamples_list\u001b[0m \u001b[0;34m=\u001b[0m \u001b[0;34m[\u001b[0m\u001b[0;34m]\u001b[0m\u001b[0;34m\u001b[0m\u001b[0;34m\u001b[0m\u001b[0m\n\u001b[1;32m    247\u001b[0m         \u001b[0mtensor_adapter_config\u001b[0m \u001b[0;34m=\u001b[0m \u001b[0;32mNone\u001b[0m\u001b[0;34m\u001b[0m\u001b[0;34m\u001b[0m\u001b[0m\n",
      "\u001b[0;32m/mnt/d/proyek1/mlops/lib/python3.10/site-packages/apache_beam/pipeline.py\u001b[0m in \u001b[0;36m__exit__\u001b[0;34m(self, exc_type, exc_val, exc_tb)\u001b[0m\n\u001b[1;32m    659\u001b[0m     \u001b[0;32mtry\u001b[0m\u001b[0;34m:\u001b[0m\u001b[0;34m\u001b[0m\u001b[0;34m\u001b[0m\u001b[0m\n\u001b[1;32m    660\u001b[0m       \u001b[0;32mif\u001b[0m \u001b[0;32mnot\u001b[0m \u001b[0mexc_type\u001b[0m\u001b[0;34m:\u001b[0m\u001b[0;34m\u001b[0m\u001b[0;34m\u001b[0m\u001b[0m\n\u001b[0;32m--> 661\u001b[0;31m         \u001b[0mself\u001b[0m\u001b[0;34m.\u001b[0m\u001b[0mresult\u001b[0m \u001b[0;34m=\u001b[0m \u001b[0mself\u001b[0m\u001b[0;34m.\u001b[0m\u001b[0mrun\u001b[0m\u001b[0;34m(\u001b[0m\u001b[0;34m)\u001b[0m\u001b[0;34m\u001b[0m\u001b[0;34m\u001b[0m\u001b[0m\n\u001b[0m\u001b[1;32m    662\u001b[0m         \u001b[0;32mif\u001b[0m \u001b[0;32mnot\u001b[0m \u001b[0mself\u001b[0m\u001b[0;34m.\u001b[0m\u001b[0m_options\u001b[0m\u001b[0;34m.\u001b[0m\u001b[0mview_as\u001b[0m\u001b[0;34m(\u001b[0m\u001b[0mStandardOptions\u001b[0m\u001b[0;34m)\u001b[0m\u001b[0;34m.\u001b[0m\u001b[0mno_wait_until_finish\u001b[0m\u001b[0;34m:\u001b[0m\u001b[0;34m\u001b[0m\u001b[0;34m\u001b[0m\u001b[0m\n\u001b[1;32m    663\u001b[0m           \u001b[0mself\u001b[0m\u001b[0;34m.\u001b[0m\u001b[0mresult\u001b[0m\u001b[0;34m.\u001b[0m\u001b[0mwait_until_finish\u001b[0m\u001b[0;34m(\u001b[0m\u001b[0;34m)\u001b[0m\u001b[0;34m\u001b[0m\u001b[0;34m\u001b[0m\u001b[0m\n",
      "\u001b[0;32m/mnt/d/proyek1/mlops/lib/python3.10/site-packages/apache_beam/pipeline.py\u001b[0m in \u001b[0;36mrun\u001b[0;34m(self, test_runner_api)\u001b[0m\n\u001b[1;32m    633\u001b[0m         \u001b[0;32mfinally\u001b[0m\u001b[0;34m:\u001b[0m\u001b[0;34m\u001b[0m\u001b[0;34m\u001b[0m\u001b[0m\n\u001b[1;32m    634\u001b[0m           \u001b[0mshutil\u001b[0m\u001b[0;34m.\u001b[0m\u001b[0mrmtree\u001b[0m\u001b[0;34m(\u001b[0m\u001b[0mtmpdir\u001b[0m\u001b[0;34m)\u001b[0m\u001b[0;34m\u001b[0m\u001b[0;34m\u001b[0m\u001b[0m\n\u001b[0;32m--> 635\u001b[0;31m       \u001b[0;32mreturn\u001b[0m \u001b[0mself\u001b[0m\u001b[0;34m.\u001b[0m\u001b[0mrunner\u001b[0m\u001b[0;34m.\u001b[0m\u001b[0mrun_pipeline\u001b[0m\u001b[0;34m(\u001b[0m\u001b[0mself\u001b[0m\u001b[0;34m,\u001b[0m \u001b[0mself\u001b[0m\u001b[0;34m.\u001b[0m\u001b[0m_options\u001b[0m\u001b[0;34m)\u001b[0m\u001b[0;34m\u001b[0m\u001b[0;34m\u001b[0m\u001b[0m\n\u001b[0m\u001b[1;32m    636\u001b[0m     \u001b[0;32mfinally\u001b[0m\u001b[0;34m:\u001b[0m\u001b[0;34m\u001b[0m\u001b[0;34m\u001b[0m\u001b[0m\n\u001b[1;32m    637\u001b[0m       \u001b[0;32mif\u001b[0m \u001b[0;32mnot\u001b[0m \u001b[0mis_in_ipython\u001b[0m\u001b[0;34m(\u001b[0m\u001b[0;34m)\u001b[0m\u001b[0;34m:\u001b[0m\u001b[0;34m\u001b[0m\u001b[0;34m\u001b[0m\u001b[0m\n",
      "\u001b[0;32m/mnt/d/proyek1/mlops/lib/python3.10/site-packages/apache_beam/runners/direct/direct_runner.py\u001b[0m in \u001b[0;36mrun_pipeline\u001b[0;34m(self, pipeline, options)\u001b[0m\n\u001b[1;32m    183\u001b[0m         \u001b[0mrunner\u001b[0m \u001b[0;34m=\u001b[0m \u001b[0mBundleBasedDirectRunner\u001b[0m\u001b[0;34m(\u001b[0m\u001b[0;34m)\u001b[0m\u001b[0;34m\u001b[0m\u001b[0;34m\u001b[0m\u001b[0m\n\u001b[1;32m    184\u001b[0m \u001b[0;34m\u001b[0m\u001b[0m\n\u001b[0;32m--> 185\u001b[0;31m     \u001b[0;32mreturn\u001b[0m \u001b[0mrunner\u001b[0m\u001b[0;34m.\u001b[0m\u001b[0mrun_pipeline\u001b[0m\u001b[0;34m(\u001b[0m\u001b[0mpipeline\u001b[0m\u001b[0;34m,\u001b[0m \u001b[0moptions\u001b[0m\u001b[0;34m)\u001b[0m\u001b[0;34m\u001b[0m\u001b[0;34m\u001b[0m\u001b[0m\n\u001b[0m\u001b[1;32m    186\u001b[0m \u001b[0;34m\u001b[0m\u001b[0m\n\u001b[1;32m    187\u001b[0m \u001b[0;34m\u001b[0m\u001b[0m\n",
      "\u001b[0;32m/mnt/d/proyek1/mlops/lib/python3.10/site-packages/apache_beam/runners/portability/fn_api_runner/fn_runner.py\u001b[0m in \u001b[0;36mrun_pipeline\u001b[0;34m(self, pipeline, options)\u001b[0m\n\u001b[1;32m    194\u001b[0m         options.view_as(pipeline_options.ProfilingOptions))\n\u001b[1;32m    195\u001b[0m \u001b[0;34m\u001b[0m\u001b[0m\n\u001b[0;32m--> 196\u001b[0;31m     self._latest_run_result = self.run_via_runner_api(\n\u001b[0m\u001b[1;32m    197\u001b[0m         \u001b[0mpipeline\u001b[0m\u001b[0;34m.\u001b[0m\u001b[0mto_runner_api\u001b[0m\u001b[0;34m(\u001b[0m\u001b[0mdefault_environment\u001b[0m\u001b[0;34m=\u001b[0m\u001b[0mself\u001b[0m\u001b[0;34m.\u001b[0m\u001b[0m_default_environment\u001b[0m\u001b[0;34m)\u001b[0m\u001b[0;34m,\u001b[0m\u001b[0;34m\u001b[0m\u001b[0;34m\u001b[0m\u001b[0m\n\u001b[1;32m    198\u001b[0m         options)\n",
      "\u001b[0;32m/mnt/d/proyek1/mlops/lib/python3.10/site-packages/apache_beam/runners/portability/fn_api_runner/fn_runner.py\u001b[0m in \u001b[0;36mrun_via_runner_api\u001b[0;34m(self, pipeline_proto, options)\u001b[0m\n\u001b[1;32m    221\u001b[0m             merge_superset_dep_environments(pipeline_proto)))\n\u001b[1;32m    222\u001b[0m     \u001b[0mstage_context\u001b[0m\u001b[0;34m,\u001b[0m \u001b[0mstages\u001b[0m \u001b[0;34m=\u001b[0m \u001b[0mself\u001b[0m\u001b[0;34m.\u001b[0m\u001b[0mcreate_stages\u001b[0m\u001b[0;34m(\u001b[0m\u001b[0mpipeline_proto\u001b[0m\u001b[0;34m)\u001b[0m\u001b[0;34m\u001b[0m\u001b[0;34m\u001b[0m\u001b[0m\n\u001b[0;32m--> 223\u001b[0;31m     \u001b[0;32mreturn\u001b[0m \u001b[0mself\u001b[0m\u001b[0;34m.\u001b[0m\u001b[0mrun_stages\u001b[0m\u001b[0;34m(\u001b[0m\u001b[0mstage_context\u001b[0m\u001b[0;34m,\u001b[0m \u001b[0mstages\u001b[0m\u001b[0;34m)\u001b[0m\u001b[0;34m\u001b[0m\u001b[0;34m\u001b[0m\u001b[0m\n\u001b[0m\u001b[1;32m    224\u001b[0m \u001b[0;34m\u001b[0m\u001b[0m\n\u001b[1;32m    225\u001b[0m   \u001b[0;32mdef\u001b[0m \u001b[0membed_default_docker_image\u001b[0m\u001b[0;34m(\u001b[0m\u001b[0mself\u001b[0m\u001b[0;34m,\u001b[0m \u001b[0mpipeline_proto\u001b[0m\u001b[0;34m)\u001b[0m\u001b[0;34m:\u001b[0m\u001b[0;34m\u001b[0m\u001b[0;34m\u001b[0m\u001b[0m\n",
      "\u001b[0;32m/mnt/d/proyek1/mlops/lib/python3.10/site-packages/apache_beam/runners/portability/fn_api_runner/fn_runner.py\u001b[0m in \u001b[0;36mrun_stages\u001b[0;34m(self, stage_context, stages)\u001b[0m\n\u001b[1;32m    468\u001b[0m \u001b[0;34m\u001b[0m\u001b[0m\n\u001b[1;32m    469\u001b[0m           \u001b[0mbundle_counter\u001b[0m \u001b[0;34m+=\u001b[0m \u001b[0;36m1\u001b[0m\u001b[0;34m\u001b[0m\u001b[0;34m\u001b[0m\u001b[0m\n\u001b[0;32m--> 470\u001b[0;31m           bundle_results = self._execute_bundle(\n\u001b[0m\u001b[1;32m    471\u001b[0m               runner_execution_context, bundle_context_manager, bundle_input)\n\u001b[1;32m    472\u001b[0m \u001b[0;34m\u001b[0m\u001b[0m\n",
      "\u001b[0;32m/mnt/d/proyek1/mlops/lib/python3.10/site-packages/apache_beam/runners/portability/fn_api_runner/fn_runner.py\u001b[0m in \u001b[0;36m_execute_bundle\u001b[0;34m(self, runner_execution_context, bundle_context_manager, bundle_input)\u001b[0m\n\u001b[1;32m    793\u001b[0m \u001b[0;34m\u001b[0m\u001b[0m\n\u001b[1;32m    794\u001b[0m     last_result, deferred_inputs, newly_set_timers, watermark_updates = (\n\u001b[0;32m--> 795\u001b[0;31m         self._run_bundle(\n\u001b[0m\u001b[1;32m    796\u001b[0m             \u001b[0mrunner_execution_context\u001b[0m\u001b[0;34m,\u001b[0m\u001b[0;34m\u001b[0m\u001b[0;34m\u001b[0m\u001b[0m\n\u001b[1;32m    797\u001b[0m             \u001b[0mbundle_context_manager\u001b[0m\u001b[0;34m,\u001b[0m\u001b[0;34m\u001b[0m\u001b[0;34m\u001b[0m\u001b[0m\n",
      "\u001b[0;32m/mnt/d/proyek1/mlops/lib/python3.10/site-packages/apache_beam/runners/portability/fn_api_runner/fn_runner.py\u001b[0m in \u001b[0;36m_run_bundle\u001b[0;34m(self, runner_execution_context, bundle_context_manager, bundle_input, data_output, expected_timer_output, bundle_manager)\u001b[0m\n\u001b[1;32m   1032\u001b[0m         expected_timer_output)\n\u001b[1;32m   1033\u001b[0m \u001b[0;34m\u001b[0m\u001b[0m\n\u001b[0;32m-> 1034\u001b[0;31m     result, splits = bundle_manager.process_bundle(\n\u001b[0m\u001b[1;32m   1035\u001b[0m         data_input, data_output, input_timers, expected_timer_output)\n\u001b[1;32m   1036\u001b[0m     \u001b[0;31m# Now we collect all the deferred inputs remaining from bundle execution.\u001b[0m\u001b[0;34m\u001b[0m\u001b[0;34m\u001b[0m\u001b[0m\n",
      "\u001b[0;32m/mnt/d/proyek1/mlops/lib/python3.10/site-packages/apache_beam/runners/portability/fn_api_runner/fn_runner.py\u001b[0m in \u001b[0;36mprocess_bundle\u001b[0;34m(self, inputs, expected_outputs, fired_timers, expected_output_timers, dry_run)\u001b[0m\n\u001b[1;32m   1358\u001b[0m             \u001b[0mprocess_bundle_descriptor\u001b[0m\u001b[0;34m.\u001b[0m\u001b[0mid\u001b[0m\u001b[0;34m,\u001b[0m\u001b[0;34m\u001b[0m\u001b[0;34m\u001b[0m\u001b[0m\n\u001b[1;32m   1359\u001b[0m             cache_tokens=[next(self._cache_token_generator)]))\n\u001b[0;32m-> 1360\u001b[0;31m     \u001b[0mresult_future\u001b[0m \u001b[0;34m=\u001b[0m \u001b[0mself\u001b[0m\u001b[0;34m.\u001b[0m\u001b[0m_worker_handler\u001b[0m\u001b[0;34m.\u001b[0m\u001b[0mcontrol_conn\u001b[0m\u001b[0;34m.\u001b[0m\u001b[0mpush\u001b[0m\u001b[0;34m(\u001b[0m\u001b[0mprocess_bundle_req\u001b[0m\u001b[0;34m)\u001b[0m\u001b[0;34m\u001b[0m\u001b[0;34m\u001b[0m\u001b[0m\n\u001b[0m\u001b[1;32m   1361\u001b[0m \u001b[0;34m\u001b[0m\u001b[0m\n\u001b[1;32m   1362\u001b[0m     \u001b[0msplit_results\u001b[0m\u001b[0;34m:\u001b[0m \u001b[0mList\u001b[0m\u001b[0;34m[\u001b[0m\u001b[0mbeam_fn_api_pb2\u001b[0m\u001b[0;34m.\u001b[0m\u001b[0mProcessBundleSplitResponse\u001b[0m\u001b[0;34m]\u001b[0m \u001b[0;34m=\u001b[0m \u001b[0;34m[\u001b[0m\u001b[0;34m]\u001b[0m\u001b[0;34m\u001b[0m\u001b[0;34m\u001b[0m\u001b[0m\n",
      "\u001b[0;32m/mnt/d/proyek1/mlops/lib/python3.10/site-packages/apache_beam/runners/portability/fn_api_runner/worker_handlers.py\u001b[0m in \u001b[0;36mpush\u001b[0;34m(self, request)\u001b[0m\n\u001b[1;32m    387\u001b[0m       \u001b[0mself\u001b[0m\u001b[0;34m.\u001b[0m\u001b[0m_uid_counter\u001b[0m \u001b[0;34m+=\u001b[0m \u001b[0;36m1\u001b[0m\u001b[0;34m\u001b[0m\u001b[0;34m\u001b[0m\u001b[0m\n\u001b[1;32m    388\u001b[0m       \u001b[0mrequest\u001b[0m\u001b[0;34m.\u001b[0m\u001b[0minstruction_id\u001b[0m \u001b[0;34m=\u001b[0m \u001b[0;34m'control_%s'\u001b[0m \u001b[0;34m%\u001b[0m \u001b[0mself\u001b[0m\u001b[0;34m.\u001b[0m\u001b[0m_uid_counter\u001b[0m\u001b[0;34m\u001b[0m\u001b[0;34m\u001b[0m\u001b[0m\n\u001b[0;32m--> 389\u001b[0;31m     \u001b[0mresponse\u001b[0m \u001b[0;34m=\u001b[0m \u001b[0mself\u001b[0m\u001b[0;34m.\u001b[0m\u001b[0mworker\u001b[0m\u001b[0;34m.\u001b[0m\u001b[0mdo_instruction\u001b[0m\u001b[0;34m(\u001b[0m\u001b[0mrequest\u001b[0m\u001b[0;34m)\u001b[0m\u001b[0;34m\u001b[0m\u001b[0;34m\u001b[0m\u001b[0m\n\u001b[0m\u001b[1;32m    390\u001b[0m     \u001b[0;32mreturn\u001b[0m \u001b[0mControlFuture\u001b[0m\u001b[0;34m(\u001b[0m\u001b[0mrequest\u001b[0m\u001b[0;34m.\u001b[0m\u001b[0minstruction_id\u001b[0m\u001b[0;34m,\u001b[0m \u001b[0mresponse\u001b[0m\u001b[0;34m)\u001b[0m\u001b[0;34m\u001b[0m\u001b[0;34m\u001b[0m\u001b[0m\n\u001b[1;32m    391\u001b[0m \u001b[0;34m\u001b[0m\u001b[0m\n",
      "\u001b[0;32m/mnt/d/proyek1/mlops/lib/python3.10/site-packages/apache_beam/runners/worker/sdk_worker.py\u001b[0m in \u001b[0;36mdo_instruction\u001b[0;34m(self, request)\u001b[0m\n\u001b[1;32m    655\u001b[0m     \u001b[0;32mif\u001b[0m \u001b[0mrequest_type\u001b[0m\u001b[0;34m:\u001b[0m\u001b[0;34m\u001b[0m\u001b[0;34m\u001b[0m\u001b[0m\n\u001b[1;32m    656\u001b[0m       \u001b[0;31m# E.g. if register is set, this will call self.register(request.register))\u001b[0m\u001b[0;34m\u001b[0m\u001b[0;34m\u001b[0m\u001b[0m\n\u001b[0;32m--> 657\u001b[0;31m       return getattr(self, request_type)(\n\u001b[0m\u001b[1;32m    658\u001b[0m           getattr(request, request_type), request.instruction_id)\n\u001b[1;32m    659\u001b[0m     \u001b[0;32melse\u001b[0m\u001b[0;34m:\u001b[0m\u001b[0;34m\u001b[0m\u001b[0;34m\u001b[0m\u001b[0m\n",
      "\u001b[0;32m/mnt/d/proyek1/mlops/lib/python3.10/site-packages/apache_beam/runners/worker/sdk_worker.py\u001b[0m in \u001b[0;36mprocess_bundle\u001b[0;34m(self, request, instruction_id)\u001b[0m\n\u001b[1;32m    693\u001b[0m         \u001b[0;32mwith\u001b[0m \u001b[0mself\u001b[0m\u001b[0;34m.\u001b[0m\u001b[0mmaybe_profile\u001b[0m\u001b[0;34m(\u001b[0m\u001b[0minstruction_id\u001b[0m\u001b[0;34m)\u001b[0m\u001b[0;34m:\u001b[0m\u001b[0;34m\u001b[0m\u001b[0;34m\u001b[0m\u001b[0m\n\u001b[1;32m    694\u001b[0m           delayed_applications, requests_finalization = (\n\u001b[0;32m--> 695\u001b[0;31m               bundle_processor.process_bundle(instruction_id))\n\u001b[0m\u001b[1;32m    696\u001b[0m           \u001b[0mmonitoring_infos\u001b[0m \u001b[0;34m=\u001b[0m \u001b[0mbundle_processor\u001b[0m\u001b[0;34m.\u001b[0m\u001b[0mmonitoring_infos\u001b[0m\u001b[0;34m(\u001b[0m\u001b[0;34m)\u001b[0m\u001b[0;34m\u001b[0m\u001b[0;34m\u001b[0m\u001b[0m\n\u001b[1;32m    697\u001b[0m           response = beam_fn_api_pb2.InstructionResponse(\n",
      "\u001b[0;32m/mnt/d/proyek1/mlops/lib/python3.10/site-packages/apache_beam/runners/worker/bundle_processor.py\u001b[0m in \u001b[0;36mprocess_bundle\u001b[0;34m(self, instruction_id)\u001b[0m\n\u001b[1;32m   1272\u001b[0m                   element.timer_family_id, timer_data)\n\u001b[1;32m   1273\u001b[0m           \u001b[0;32melif\u001b[0m \u001b[0misinstance\u001b[0m\u001b[0;34m(\u001b[0m\u001b[0melement\u001b[0m\u001b[0;34m,\u001b[0m \u001b[0mbeam_fn_api_pb2\u001b[0m\u001b[0;34m.\u001b[0m\u001b[0mElements\u001b[0m\u001b[0;34m.\u001b[0m\u001b[0mData\u001b[0m\u001b[0;34m)\u001b[0m\u001b[0;34m:\u001b[0m\u001b[0;34m\u001b[0m\u001b[0;34m\u001b[0m\u001b[0m\n\u001b[0;32m-> 1274\u001b[0;31m             input_op_by_transform_id[element.transform_id].process_encoded(\n\u001b[0m\u001b[1;32m   1275\u001b[0m                 element.data)\n\u001b[1;32m   1276\u001b[0m           \u001b[0;31m# We are done consuming the set of elements.\u001b[0m\u001b[0;34m\u001b[0m\u001b[0;34m\u001b[0m\u001b[0m\n",
      "\u001b[0;32m/mnt/d/proyek1/mlops/lib/python3.10/site-packages/apache_beam/runners/worker/bundle_processor.py\u001b[0m in \u001b[0;36mprocess_encoded\u001b[0;34m(self, encoded_windowed_values)\u001b[0m\n\u001b[1;32m    235\u001b[0m             \u001b[0;34m\"Error decoding input stream with coder \"\u001b[0m \u001b[0;34m+\u001b[0m\u001b[0;34m\u001b[0m\u001b[0;34m\u001b[0m\u001b[0m\n\u001b[1;32m    236\u001b[0m             str(self.windowed_coder)) from exn\n\u001b[0;32m--> 237\u001b[0;31m       \u001b[0mself\u001b[0m\u001b[0;34m.\u001b[0m\u001b[0moutput\u001b[0m\u001b[0;34m(\u001b[0m\u001b[0mdecoded_value\u001b[0m\u001b[0;34m)\u001b[0m\u001b[0;34m\u001b[0m\u001b[0;34m\u001b[0m\u001b[0m\n\u001b[0m\u001b[1;32m    238\u001b[0m \u001b[0;34m\u001b[0m\u001b[0m\n\u001b[1;32m    239\u001b[0m   def monitoring_infos(\n",
      "\u001b[0;32m/mnt/d/proyek1/mlops/lib/python3.10/site-packages/apache_beam/runners/worker/operations.cpython-310-x86_64-linux-gnu.so\u001b[0m in \u001b[0;36mapache_beam.runners.worker.operations.Operation.output\u001b[0;34m()\u001b[0m\n",
      "\u001b[0;32m/mnt/d/proyek1/mlops/lib/python3.10/site-packages/apache_beam/runners/worker/operations.cpython-310-x86_64-linux-gnu.so\u001b[0m in \u001b[0;36mapache_beam.runners.worker.operations.Operation.output\u001b[0;34m()\u001b[0m\n",
      "\u001b[0;32m/mnt/d/proyek1/mlops/lib/python3.10/site-packages/apache_beam/runners/worker/operations.cpython-310-x86_64-linux-gnu.so\u001b[0m in \u001b[0;36mapache_beam.runners.worker.operations.SingletonElementConsumerSet.receive\u001b[0;34m()\u001b[0m\n",
      "\u001b[0;32m/mnt/d/proyek1/mlops/lib/python3.10/site-packages/apache_beam/runners/worker/operations.cpython-310-x86_64-linux-gnu.so\u001b[0m in \u001b[0;36mapache_beam.runners.worker.operations.SingletonElementConsumerSet.receive\u001b[0;34m()\u001b[0m\n",
      "\u001b[0;32m/mnt/d/proyek1/mlops/lib/python3.10/site-packages/apache_beam/runners/worker/operations.cpython-310-x86_64-linux-gnu.so\u001b[0m in \u001b[0;36mapache_beam.runners.worker.operations.SdfProcessSizedElements.process\u001b[0;34m()\u001b[0m\n",
      "\u001b[0;32m/mnt/d/proyek1/mlops/lib/python3.10/site-packages/apache_beam/runners/worker/operations.cpython-310-x86_64-linux-gnu.so\u001b[0m in \u001b[0;36mapache_beam.runners.worker.operations.SdfProcessSizedElements.process\u001b[0;34m()\u001b[0m\n",
      "\u001b[0;32m/mnt/d/proyek1/mlops/lib/python3.10/site-packages/apache_beam/runners/common.cpython-310-x86_64-linux-gnu.so\u001b[0m in \u001b[0;36mapache_beam.runners.common.DoFnRunner.process_with_sized_restriction\u001b[0;34m()\u001b[0m\n",
      "\u001b[0;32m/mnt/d/proyek1/mlops/lib/python3.10/site-packages/apache_beam/runners/common.cpython-310-x86_64-linux-gnu.so\u001b[0m in \u001b[0;36mapache_beam.runners.common.PerWindowInvoker.invoke_process\u001b[0;34m()\u001b[0m\n",
      "\u001b[0;32m/mnt/d/proyek1/mlops/lib/python3.10/site-packages/apache_beam/runners/common.cpython-310-x86_64-linux-gnu.so\u001b[0m in \u001b[0;36mapache_beam.runners.common.PerWindowInvoker._invoke_process_per_window\u001b[0;34m()\u001b[0m\n",
      "\u001b[0;32m/mnt/d/proyek1/mlops/lib/python3.10/site-packages/apache_beam/runners/common.cpython-310-x86_64-linux-gnu.so\u001b[0m in \u001b[0;36mapache_beam.runners.common._OutputHandler.handle_process_outputs\u001b[0;34m()\u001b[0m\n",
      "\u001b[0;32m/mnt/d/proyek1/mlops/lib/python3.10/site-packages/apache_beam/runners/common.cpython-310-x86_64-linux-gnu.so\u001b[0m in \u001b[0;36mapache_beam.runners.common._OutputHandler._write_value_to_tag\u001b[0;34m()\u001b[0m\n",
      "\u001b[0;32m/mnt/d/proyek1/mlops/lib/python3.10/site-packages/apache_beam/runners/worker/operations.cpython-310-x86_64-linux-gnu.so\u001b[0m in \u001b[0;36mapache_beam.runners.worker.operations.SingletonElementConsumerSet.receive\u001b[0;34m()\u001b[0m\n",
      "\u001b[0;32m/mnt/d/proyek1/mlops/lib/python3.10/site-packages/apache_beam/runners/worker/operations.cpython-310-x86_64-linux-gnu.so\u001b[0m in \u001b[0;36mapache_beam.runners.worker.operations.FlattenOperation.process\u001b[0;34m()\u001b[0m\n",
      "\u001b[0;32m/mnt/d/proyek1/mlops/lib/python3.10/site-packages/apache_beam/runners/worker/operations.cpython-310-x86_64-linux-gnu.so\u001b[0m in \u001b[0;36mapache_beam.runners.worker.operations.FlattenOperation.process\u001b[0;34m()\u001b[0m\n",
      "\u001b[0;32m/mnt/d/proyek1/mlops/lib/python3.10/site-packages/apache_beam/runners/worker/operations.cpython-310-x86_64-linux-gnu.so\u001b[0m in \u001b[0;36mapache_beam.runners.worker.operations.Operation.output\u001b[0;34m()\u001b[0m\n",
      "\u001b[0;32m/mnt/d/proyek1/mlops/lib/python3.10/site-packages/apache_beam/runners/worker/operations.cpython-310-x86_64-linux-gnu.so\u001b[0m in \u001b[0;36mapache_beam.runners.worker.operations.SingletonElementConsumerSet.receive\u001b[0;34m()\u001b[0m\n",
      "\u001b[0;32m/mnt/d/proyek1/mlops/lib/python3.10/site-packages/apache_beam/runners/worker/operations.cpython-310-x86_64-linux-gnu.so\u001b[0m in \u001b[0;36mapache_beam.runners.worker.operations.SingletonElementConsumerSet.receive\u001b[0;34m()\u001b[0m\n",
      "\u001b[0;32m/mnt/d/proyek1/mlops/lib/python3.10/site-packages/apache_beam/runners/worker/operations.cpython-310-x86_64-linux-gnu.so\u001b[0m in \u001b[0;36mapache_beam.runners.worker.operations.DoOperation.process\u001b[0;34m()\u001b[0m\n",
      "\u001b[0;32m/mnt/d/proyek1/mlops/lib/python3.10/site-packages/apache_beam/runners/worker/operations.cpython-310-x86_64-linux-gnu.so\u001b[0m in \u001b[0;36mapache_beam.runners.worker.operations.DoOperation.process\u001b[0;34m()\u001b[0m\n",
      "\u001b[0;32m/mnt/d/proyek1/mlops/lib/python3.10/site-packages/apache_beam/runners/common.cpython-310-x86_64-linux-gnu.so\u001b[0m in \u001b[0;36mapache_beam.runners.common.DoFnRunner.process\u001b[0;34m()\u001b[0m\n",
      "\u001b[0;32m/mnt/d/proyek1/mlops/lib/python3.10/site-packages/apache_beam/runners/common.cpython-310-x86_64-linux-gnu.so\u001b[0m in \u001b[0;36mapache_beam.runners.common.DoFnRunner._reraise_augmented\u001b[0;34m()\u001b[0m\n",
      "\u001b[0;32m/mnt/d/proyek1/mlops/lib/python3.10/site-packages/apache_beam/runners/common.cpython-310-x86_64-linux-gnu.so\u001b[0m in \u001b[0;36mapache_beam.runners.common.DoFnRunner.process\u001b[0;34m()\u001b[0m\n",
      "\u001b[0;32m/mnt/d/proyek1/mlops/lib/python3.10/site-packages/apache_beam/runners/common.cpython-310-x86_64-linux-gnu.so\u001b[0m in \u001b[0;36mapache_beam.runners.common.SimpleInvoker.invoke_process\u001b[0;34m()\u001b[0m\n",
      "\u001b[0;32m/mnt/d/proyek1/mlops/lib/python3.10/site-packages/apache_beam/runners/common.cpython-310-x86_64-linux-gnu.so\u001b[0m in \u001b[0;36mapache_beam.runners.common._OutputHandler.handle_process_outputs\u001b[0;34m()\u001b[0m\n",
      "\u001b[0;32m/mnt/d/proyek1/mlops/lib/python3.10/site-packages/apache_beam/runners/common.cpython-310-x86_64-linux-gnu.so\u001b[0m in \u001b[0;36mapache_beam.runners.common._OutputHandler._write_value_to_tag\u001b[0;34m()\u001b[0m\n",
      "\u001b[0;32m/mnt/d/proyek1/mlops/lib/python3.10/site-packages/apache_beam/runners/worker/operations.cpython-310-x86_64-linux-gnu.so\u001b[0m in \u001b[0;36mapache_beam.runners.worker.operations.SingletonElementConsumerSet.receive\u001b[0;34m()\u001b[0m\n",
      "\u001b[0;32m/mnt/d/proyek1/mlops/lib/python3.10/site-packages/apache_beam/runners/worker/operations.cpython-310-x86_64-linux-gnu.so\u001b[0m in \u001b[0;36mapache_beam.runners.worker.operations.DoOperation.process\u001b[0;34m()\u001b[0m\n",
      "\u001b[0;32m/mnt/d/proyek1/mlops/lib/python3.10/site-packages/apache_beam/runners/worker/operations.cpython-310-x86_64-linux-gnu.so\u001b[0m in \u001b[0;36mapache_beam.runners.worker.operations.DoOperation.process\u001b[0;34m()\u001b[0m\n",
      "\u001b[0;32m/mnt/d/proyek1/mlops/lib/python3.10/site-packages/apache_beam/runners/common.cpython-310-x86_64-linux-gnu.so\u001b[0m in \u001b[0;36mapache_beam.runners.common.DoFnRunner.process\u001b[0;34m()\u001b[0m\n",
      "\u001b[0;32m/mnt/d/proyek1/mlops/lib/python3.10/site-packages/apache_beam/runners/common.cpython-310-x86_64-linux-gnu.so\u001b[0m in \u001b[0;36mapache_beam.runners.common.DoFnRunner._reraise_augmented\u001b[0;34m()\u001b[0m\n",
      "\u001b[0;32m/mnt/d/proyek1/mlops/lib/python3.10/site-packages/apache_beam/runners/common.cpython-310-x86_64-linux-gnu.so\u001b[0m in \u001b[0;36mapache_beam.runners.common.DoFnRunner.process\u001b[0;34m()\u001b[0m\n",
      "\u001b[0;32m/mnt/d/proyek1/mlops/lib/python3.10/site-packages/apache_beam/runners/common.cpython-310-x86_64-linux-gnu.so\u001b[0m in \u001b[0;36mapache_beam.runners.common.SimpleInvoker.invoke_process\u001b[0;34m()\u001b[0m\n",
      "\u001b[0;32m/mnt/d/proyek1/mlops/lib/python3.10/site-packages/apache_beam/runners/common.cpython-310-x86_64-linux-gnu.so\u001b[0m in \u001b[0;36mapache_beam.runners.common._OutputHandler.handle_process_outputs\u001b[0;34m()\u001b[0m\n",
      "\u001b[0;32m/mnt/d/proyek1/mlops/lib/python3.10/site-packages/apache_beam/runners/common.cpython-310-x86_64-linux-gnu.so\u001b[0m in \u001b[0;36mapache_beam.runners.common._OutputHandler._write_value_to_tag\u001b[0;34m()\u001b[0m\n",
      "\u001b[0;32m/mnt/d/proyek1/mlops/lib/python3.10/site-packages/apache_beam/runners/worker/operations.cpython-310-x86_64-linux-gnu.so\u001b[0m in \u001b[0;36mapache_beam.runners.worker.operations.SingletonElementConsumerSet.receive\u001b[0;34m()\u001b[0m\n",
      "\u001b[0;32m/mnt/d/proyek1/mlops/lib/python3.10/site-packages/apache_beam/runners/worker/operations.cpython-310-x86_64-linux-gnu.so\u001b[0m in \u001b[0;36mapache_beam.runners.worker.operations.DoOperation.process\u001b[0;34m()\u001b[0m\n",
      "\u001b[0;32m/mnt/d/proyek1/mlops/lib/python3.10/site-packages/apache_beam/runners/worker/operations.cpython-310-x86_64-linux-gnu.so\u001b[0m in \u001b[0;36mapache_beam.runners.worker.operations.DoOperation.process\u001b[0;34m()\u001b[0m\n",
      "\u001b[0;32m/mnt/d/proyek1/mlops/lib/python3.10/site-packages/apache_beam/runners/common.cpython-310-x86_64-linux-gnu.so\u001b[0m in \u001b[0;36mapache_beam.runners.common.DoFnRunner.process\u001b[0;34m()\u001b[0m\n",
      "\u001b[0;32m/mnt/d/proyek1/mlops/lib/python3.10/site-packages/apache_beam/runners/common.cpython-310-x86_64-linux-gnu.so\u001b[0m in \u001b[0;36mapache_beam.runners.common.DoFnRunner._reraise_augmented\u001b[0;34m()\u001b[0m\n",
      "\u001b[0;32m/mnt/d/proyek1/mlops/lib/python3.10/site-packages/apache_beam/runners/common.cpython-310-x86_64-linux-gnu.so\u001b[0m in \u001b[0;36mapache_beam.runners.common.DoFnRunner.process\u001b[0;34m()\u001b[0m\n",
      "\u001b[0;32m/mnt/d/proyek1/mlops/lib/python3.10/site-packages/apache_beam/runners/common.cpython-310-x86_64-linux-gnu.so\u001b[0m in \u001b[0;36mapache_beam.runners.common.SimpleInvoker.invoke_process\u001b[0;34m()\u001b[0m\n",
      "\u001b[0;32m/mnt/d/proyek1/mlops/lib/python3.10/site-packages/apache_beam/runners/common.cpython-310-x86_64-linux-gnu.so\u001b[0m in \u001b[0;36mapache_beam.runners.common._OutputHandler.handle_process_outputs\u001b[0;34m()\u001b[0m\n",
      "\u001b[0;32m/mnt/d/proyek1/mlops/lib/python3.10/site-packages/apache_beam/runners/common.cpython-310-x86_64-linux-gnu.so\u001b[0m in \u001b[0;36mapache_beam.runners.common._OutputHandler._write_value_to_tag\u001b[0;34m()\u001b[0m\n",
      "\u001b[0;32m/mnt/d/proyek1/mlops/lib/python3.10/site-packages/apache_beam/runners/worker/operations.cpython-310-x86_64-linux-gnu.so\u001b[0m in \u001b[0;36mapache_beam.runners.worker.operations.SingletonElementConsumerSet.receive\u001b[0;34m()\u001b[0m\n",
      "\u001b[0;32m/mnt/d/proyek1/mlops/lib/python3.10/site-packages/apache_beam/runners/worker/operations.cpython-310-x86_64-linux-gnu.so\u001b[0m in \u001b[0;36mapache_beam.runners.worker.operations.DoOperation.process\u001b[0;34m()\u001b[0m\n",
      "\u001b[0;32m/mnt/d/proyek1/mlops/lib/python3.10/site-packages/apache_beam/runners/worker/operations.cpython-310-x86_64-linux-gnu.so\u001b[0m in \u001b[0;36mapache_beam.runners.worker.operations.DoOperation.process\u001b[0;34m()\u001b[0m\n",
      "\u001b[0;32m/mnt/d/proyek1/mlops/lib/python3.10/site-packages/apache_beam/runners/common.cpython-310-x86_64-linux-gnu.so\u001b[0m in \u001b[0;36mapache_beam.runners.common.DoFnRunner.process\u001b[0;34m()\u001b[0m\n",
      "\u001b[0;32m/mnt/d/proyek1/mlops/lib/python3.10/site-packages/apache_beam/runners/common.cpython-310-x86_64-linux-gnu.so\u001b[0m in \u001b[0;36mapache_beam.runners.common.DoFnRunner._reraise_augmented\u001b[0;34m()\u001b[0m\n",
      "\u001b[0;32m/mnt/d/proyek1/mlops/lib/python3.10/site-packages/apache_beam/runners/common.cpython-310-x86_64-linux-gnu.so\u001b[0m in \u001b[0;36mapache_beam.runners.common.DoFnRunner.process\u001b[0;34m()\u001b[0m\n",
      "\u001b[0;32m/mnt/d/proyek1/mlops/lib/python3.10/site-packages/apache_beam/runners/common.cpython-310-x86_64-linux-gnu.so\u001b[0m in \u001b[0;36mapache_beam.runners.common.SimpleInvoker.invoke_process\u001b[0;34m()\u001b[0m\n",
      "\u001b[0;32m/mnt/d/proyek1/mlops/lib/python3.10/site-packages/apache_beam/runners/common.cpython-310-x86_64-linux-gnu.so\u001b[0m in \u001b[0;36mapache_beam.runners.common._OutputHandler.handle_process_outputs\u001b[0;34m()\u001b[0m\n",
      "\u001b[0;32m/mnt/d/proyek1/mlops/lib/python3.10/site-packages/apache_beam/runners/common.cpython-310-x86_64-linux-gnu.so\u001b[0m in \u001b[0;36mapache_beam.runners.common._OutputHandler._write_value_to_tag\u001b[0;34m()\u001b[0m\n",
      "\u001b[0;32m/mnt/d/proyek1/mlops/lib/python3.10/site-packages/apache_beam/runners/worker/operations.cpython-310-x86_64-linux-gnu.so\u001b[0m in \u001b[0;36mapache_beam.runners.worker.operations.SingletonElementConsumerSet.receive\u001b[0;34m()\u001b[0m\n",
      "\u001b[0;32m/mnt/d/proyek1/mlops/lib/python3.10/site-packages/apache_beam/runners/worker/operations.cpython-310-x86_64-linux-gnu.so\u001b[0m in \u001b[0;36mapache_beam.runners.worker.operations.FlattenOperation.process\u001b[0;34m()\u001b[0m\n",
      "\u001b[0;32m/mnt/d/proyek1/mlops/lib/python3.10/site-packages/apache_beam/runners/worker/operations.cpython-310-x86_64-linux-gnu.so\u001b[0m in \u001b[0;36mapache_beam.runners.worker.operations.FlattenOperation.process\u001b[0;34m()\u001b[0m\n",
      "\u001b[0;32m/mnt/d/proyek1/mlops/lib/python3.10/site-packages/apache_beam/runners/worker/operations.cpython-310-x86_64-linux-gnu.so\u001b[0m in \u001b[0;36mapache_beam.runners.worker.operations.Operation.output\u001b[0;34m()\u001b[0m\n",
      "\u001b[0;32m/mnt/d/proyek1/mlops/lib/python3.10/site-packages/apache_beam/runners/worker/operations.cpython-310-x86_64-linux-gnu.so\u001b[0m in \u001b[0;36mapache_beam.runners.worker.operations.SingletonElementConsumerSet.receive\u001b[0;34m()\u001b[0m\n",
      "\u001b[0;32m/mnt/d/proyek1/mlops/lib/python3.10/site-packages/apache_beam/runners/worker/operations.cpython-310-x86_64-linux-gnu.so\u001b[0m in \u001b[0;36mapache_beam.runners.worker.operations.SingletonElementConsumerSet.receive\u001b[0;34m()\u001b[0m\n",
      "\u001b[0;32m/mnt/d/proyek1/mlops/lib/python3.10/site-packages/apache_beam/runners/worker/operations.cpython-310-x86_64-linux-gnu.so\u001b[0m in \u001b[0;36mapache_beam.runners.worker.operations.DoOperation.process\u001b[0;34m()\u001b[0m\n",
      "\u001b[0;32m/mnt/d/proyek1/mlops/lib/python3.10/site-packages/apache_beam/runners/worker/operations.cpython-310-x86_64-linux-gnu.so\u001b[0m in \u001b[0;36mapache_beam.runners.worker.operations.DoOperation.process\u001b[0;34m()\u001b[0m\n",
      "\u001b[0;32m/mnt/d/proyek1/mlops/lib/python3.10/site-packages/apache_beam/runners/common.cpython-310-x86_64-linux-gnu.so\u001b[0m in \u001b[0;36mapache_beam.runners.common.DoFnRunner.process\u001b[0;34m()\u001b[0m\n",
      "\u001b[0;32m/mnt/d/proyek1/mlops/lib/python3.10/site-packages/apache_beam/runners/common.cpython-310-x86_64-linux-gnu.so\u001b[0m in \u001b[0;36mapache_beam.runners.common.DoFnRunner._reraise_augmented\u001b[0;34m()\u001b[0m\n",
      "\u001b[0;32m/mnt/d/proyek1/mlops/lib/python3.10/site-packages/apache_beam/runners/common.cpython-310-x86_64-linux-gnu.so\u001b[0m in \u001b[0;36mapache_beam.runners.common.DoFnRunner.process\u001b[0;34m()\u001b[0m\n",
      "\u001b[0;32m/mnt/d/proyek1/mlops/lib/python3.10/site-packages/apache_beam/runners/common.cpython-310-x86_64-linux-gnu.so\u001b[0m in \u001b[0;36mapache_beam.runners.common.SimpleInvoker.invoke_process\u001b[0;34m()\u001b[0m\n",
      "\u001b[0;32m/mnt/d/proyek1/mlops/lib/python3.10/site-packages/apache_beam/runners/common.cpython-310-x86_64-linux-gnu.so\u001b[0m in \u001b[0;36mapache_beam.runners.common._OutputHandler.handle_process_outputs\u001b[0;34m()\u001b[0m\n",
      "\u001b[0;32m/mnt/d/proyek1/mlops/lib/python3.10/site-packages/apache_beam/runners/common.cpython-310-x86_64-linux-gnu.so\u001b[0m in \u001b[0;36mapache_beam.runners.common._OutputHandler._write_value_to_tag\u001b[0;34m()\u001b[0m\n",
      "\u001b[0;32m/mnt/d/proyek1/mlops/lib/python3.10/site-packages/apache_beam/runners/worker/operations.cpython-310-x86_64-linux-gnu.so\u001b[0m in \u001b[0;36mapache_beam.runners.worker.operations.GeneralPurposeConsumerSet.receive\u001b[0;34m()\u001b[0m\n",
      "\u001b[0;32m/mnt/d/proyek1/mlops/lib/python3.10/site-packages/apache_beam/runners/worker/operations.cpython-310-x86_64-linux-gnu.so\u001b[0m in \u001b[0;36mapache_beam.runners.worker.operations.DoOperation.process\u001b[0;34m()\u001b[0m\n",
      "\u001b[0;32m/mnt/d/proyek1/mlops/lib/python3.10/site-packages/apache_beam/runners/worker/operations.cpython-310-x86_64-linux-gnu.so\u001b[0m in \u001b[0;36mapache_beam.runners.worker.operations.DoOperation.process\u001b[0;34m()\u001b[0m\n",
      "\u001b[0;32m/mnt/d/proyek1/mlops/lib/python3.10/site-packages/apache_beam/runners/worker/operations.cpython-310-x86_64-linux-gnu.so\u001b[0m in \u001b[0;36mapache_beam.runners.worker.operations.DoOperation.process\u001b[0;34m()\u001b[0m\n",
      "\u001b[0;32m/mnt/d/proyek1/mlops/lib/python3.10/site-packages/apache_beam/runners/common.cpython-310-x86_64-linux-gnu.so\u001b[0m in \u001b[0;36mapache_beam.runners.common.DoFnRunner.process\u001b[0;34m()\u001b[0m\n",
      "\u001b[0;32m/mnt/d/proyek1/mlops/lib/python3.10/site-packages/apache_beam/runners/common.cpython-310-x86_64-linux-gnu.so\u001b[0m in \u001b[0;36mapache_beam.runners.common.DoFnRunner._reraise_augmented\u001b[0;34m()\u001b[0m\n",
      "\u001b[0;32m/mnt/d/proyek1/mlops/lib/python3.10/site-packages/apache_beam/runners/common.cpython-310-x86_64-linux-gnu.so\u001b[0m in \u001b[0;36mapache_beam.runners.common.DoFnRunner.process\u001b[0;34m()\u001b[0m\n",
      "\u001b[0;32m/mnt/d/proyek1/mlops/lib/python3.10/site-packages/apache_beam/runners/common.cpython-310-x86_64-linux-gnu.so\u001b[0m in \u001b[0;36mapache_beam.runners.common.SimpleInvoker.invoke_process\u001b[0;34m()\u001b[0m\n",
      "\u001b[0;32m/mnt/d/proyek1/mlops/lib/python3.10/site-packages/apache_beam/runners/common.cpython-310-x86_64-linux-gnu.so\u001b[0m in \u001b[0;36mapache_beam.runners.common._OutputHandler.handle_process_outputs\u001b[0;34m()\u001b[0m\n",
      "\u001b[0;32m/mnt/d/proyek1/mlops/lib/python3.10/site-packages/apache_beam/runners/common.cpython-310-x86_64-linux-gnu.so\u001b[0m in \u001b[0;36mapache_beam.runners.common._OutputHandler._write_value_to_tag\u001b[0;34m()\u001b[0m\n",
      "\u001b[0;32m/mnt/d/proyek1/mlops/lib/python3.10/site-packages/apache_beam/runners/worker/operations.cpython-310-x86_64-linux-gnu.so\u001b[0m in \u001b[0;36mapache_beam.runners.worker.operations.SingletonElementConsumerSet.receive\u001b[0;34m()\u001b[0m\n",
      "\u001b[0;32m/mnt/d/proyek1/mlops/lib/python3.10/site-packages/apache_beam/runners/worker/operations.cpython-310-x86_64-linux-gnu.so\u001b[0m in \u001b[0;36mapache_beam.runners.worker.operations.DoOperation.process\u001b[0;34m()\u001b[0m\n",
      "\u001b[0;32m/mnt/d/proyek1/mlops/lib/python3.10/site-packages/apache_beam/runners/worker/operations.cpython-310-x86_64-linux-gnu.so\u001b[0m in \u001b[0;36mapache_beam.runners.worker.operations.DoOperation.process\u001b[0;34m()\u001b[0m\n",
      "\u001b[0;32m/mnt/d/proyek1/mlops/lib/python3.10/site-packages/apache_beam/runners/common.cpython-310-x86_64-linux-gnu.so\u001b[0m in \u001b[0;36mapache_beam.runners.common.DoFnRunner.process\u001b[0;34m()\u001b[0m\n",
      "\u001b[0;32m/mnt/d/proyek1/mlops/lib/python3.10/site-packages/apache_beam/runners/common.cpython-310-x86_64-linux-gnu.so\u001b[0m in \u001b[0;36mapache_beam.runners.common.DoFnRunner._reraise_augmented\u001b[0;34m()\u001b[0m\n",
      "\u001b[0;32m/mnt/d/proyek1/mlops/lib/python3.10/site-packages/apache_beam/runners/common.cpython-310-x86_64-linux-gnu.so\u001b[0m in \u001b[0;36mapache_beam.runners.common.DoFnRunner.process\u001b[0;34m()\u001b[0m\n",
      "\u001b[0;32m/mnt/d/proyek1/mlops/lib/python3.10/site-packages/apache_beam/runners/common.cpython-310-x86_64-linux-gnu.so\u001b[0m in \u001b[0;36mapache_beam.runners.common.SimpleInvoker.invoke_process\u001b[0;34m()\u001b[0m\n",
      "\u001b[0;32m/mnt/d/proyek1/mlops/lib/python3.10/site-packages/apache_beam/runners/common.cpython-310-x86_64-linux-gnu.so\u001b[0m in \u001b[0;36mapache_beam.runners.common._OutputHandler.handle_process_outputs\u001b[0;34m()\u001b[0m\n",
      "\u001b[0;32m/mnt/d/proyek1/mlops/lib/python3.10/site-packages/apache_beam/runners/common.cpython-310-x86_64-linux-gnu.so\u001b[0m in \u001b[0;36mapache_beam.runners.common._OutputHandler._write_value_to_tag\u001b[0;34m()\u001b[0m\n",
      "\u001b[0;32m/mnt/d/proyek1/mlops/lib/python3.10/site-packages/apache_beam/runners/worker/operations.cpython-310-x86_64-linux-gnu.so\u001b[0m in \u001b[0;36mapache_beam.runners.worker.operations.SingletonElementConsumerSet.receive\u001b[0;34m()\u001b[0m\n",
      "\u001b[0;32m/mnt/d/proyek1/mlops/lib/python3.10/site-packages/apache_beam/runners/worker/operations.cpython-310-x86_64-linux-gnu.so\u001b[0m in \u001b[0;36mapache_beam.runners.worker.operations.DoOperation.process\u001b[0;34m()\u001b[0m\n",
      "\u001b[0;32m/mnt/d/proyek1/mlops/lib/python3.10/site-packages/apache_beam/runners/worker/operations.cpython-310-x86_64-linux-gnu.so\u001b[0m in \u001b[0;36mapache_beam.runners.worker.operations.DoOperation.process\u001b[0;34m()\u001b[0m\n",
      "\u001b[0;32m/mnt/d/proyek1/mlops/lib/python3.10/site-packages/apache_beam/runners/common.cpython-310-x86_64-linux-gnu.so\u001b[0m in \u001b[0;36mapache_beam.runners.common.DoFnRunner.process\u001b[0;34m()\u001b[0m\n",
      "\u001b[0;32m/mnt/d/proyek1/mlops/lib/python3.10/site-packages/apache_beam/runners/common.cpython-310-x86_64-linux-gnu.so\u001b[0m in \u001b[0;36mapache_beam.runners.common.DoFnRunner._reraise_augmented\u001b[0;34m()\u001b[0m\n",
      "\u001b[0;32m/mnt/d/proyek1/mlops/lib/python3.10/site-packages/apache_beam/runners/common.cpython-310-x86_64-linux-gnu.so\u001b[0m in \u001b[0;36mapache_beam.runners.common.DoFnRunner.process\u001b[0;34m()\u001b[0m\n",
      "\u001b[0;32m/mnt/d/proyek1/mlops/lib/python3.10/site-packages/apache_beam/runners/common.cpython-310-x86_64-linux-gnu.so\u001b[0m in \u001b[0;36mapache_beam.runners.common.SimpleInvoker.invoke_process\u001b[0;34m()\u001b[0m\n",
      "\u001b[0;32m/mnt/d/proyek1/mlops/lib/python3.10/site-packages/apache_beam/runners/common.cpython-310-x86_64-linux-gnu.so\u001b[0m in \u001b[0;36mapache_beam.runners.common._OutputHandler.handle_process_outputs\u001b[0;34m()\u001b[0m\n",
      "\u001b[0;32m/mnt/d/proyek1/mlops/lib/python3.10/site-packages/apache_beam/runners/common.cpython-310-x86_64-linux-gnu.so\u001b[0m in \u001b[0;36mapache_beam.runners.common._OutputHandler._write_value_to_tag\u001b[0;34m()\u001b[0m\n",
      "\u001b[0;32m/mnt/d/proyek1/mlops/lib/python3.10/site-packages/apache_beam/runners/worker/operations.cpython-310-x86_64-linux-gnu.so\u001b[0m in \u001b[0;36mapache_beam.runners.worker.operations.SingletonElementConsumerSet.receive\u001b[0;34m()\u001b[0m\n",
      "\u001b[0;32m/mnt/d/proyek1/mlops/lib/python3.10/site-packages/apache_beam/runners/worker/operations.cpython-310-x86_64-linux-gnu.so\u001b[0m in \u001b[0;36mapache_beam.runners.worker.operations.DoOperation.process\u001b[0;34m()\u001b[0m\n",
      "\u001b[0;32m/mnt/d/proyek1/mlops/lib/python3.10/site-packages/apache_beam/runners/worker/operations.cpython-310-x86_64-linux-gnu.so\u001b[0m in \u001b[0;36mapache_beam.runners.worker.operations.DoOperation.process\u001b[0;34m()\u001b[0m\n",
      "\u001b[0;32m/mnt/d/proyek1/mlops/lib/python3.10/site-packages/apache_beam/runners/common.cpython-310-x86_64-linux-gnu.so\u001b[0m in \u001b[0;36mapache_beam.runners.common.DoFnRunner.process\u001b[0;34m()\u001b[0m\n",
      "\u001b[0;32m/mnt/d/proyek1/mlops/lib/python3.10/site-packages/apache_beam/runners/common.cpython-310-x86_64-linux-gnu.so\u001b[0m in \u001b[0;36mapache_beam.runners.common.DoFnRunner._reraise_augmented\u001b[0;34m()\u001b[0m\n",
      "\u001b[0;32m/mnt/d/proyek1/mlops/lib/python3.10/site-packages/apache_beam/runners/common.cpython-310-x86_64-linux-gnu.so\u001b[0m in \u001b[0;36mapache_beam.runners.common.DoFnRunner.process\u001b[0;34m()\u001b[0m\n",
      "\u001b[0;32m/mnt/d/proyek1/mlops/lib/python3.10/site-packages/apache_beam/runners/common.cpython-310-x86_64-linux-gnu.so\u001b[0m in \u001b[0;36mapache_beam.runners.common.SimpleInvoker.invoke_process\u001b[0;34m()\u001b[0m\n",
      "\u001b[0;32m/mnt/d/proyek1/mlops/lib/python3.10/site-packages/apache_beam/runners/common.cpython-310-x86_64-linux-gnu.so\u001b[0m in \u001b[0;36mapache_beam.runners.common._OutputHandler.handle_process_outputs\u001b[0;34m()\u001b[0m\n",
      "\u001b[0;32m/mnt/d/proyek1/mlops/lib/python3.10/site-packages/apache_beam/runners/common.cpython-310-x86_64-linux-gnu.so\u001b[0m in \u001b[0;36mapache_beam.runners.common._OutputHandler._write_value_to_tag\u001b[0;34m()\u001b[0m\n",
      "\u001b[0;32m/mnt/d/proyek1/mlops/lib/python3.10/site-packages/apache_beam/runners/worker/operations.cpython-310-x86_64-linux-gnu.so\u001b[0m in \u001b[0;36mapache_beam.runners.worker.operations.SingletonElementConsumerSet.receive\u001b[0;34m()\u001b[0m\n",
      "\u001b[0;32m/mnt/d/proyek1/mlops/lib/python3.10/site-packages/apache_beam/runners/worker/operations.cpython-310-x86_64-linux-gnu.so\u001b[0m in \u001b[0;36mapache_beam.runners.worker.operations.DoOperation.process\u001b[0;34m()\u001b[0m\n",
      "\u001b[0;32m/mnt/d/proyek1/mlops/lib/python3.10/site-packages/apache_beam/runners/worker/operations.cpython-310-x86_64-linux-gnu.so\u001b[0m in \u001b[0;36mapache_beam.runners.worker.operations.DoOperation.process\u001b[0;34m()\u001b[0m\n",
      "\u001b[0;32m/mnt/d/proyek1/mlops/lib/python3.10/site-packages/apache_beam/runners/common.cpython-310-x86_64-linux-gnu.so\u001b[0m in \u001b[0;36mapache_beam.runners.common.DoFnRunner.process\u001b[0;34m()\u001b[0m\n",
      "\u001b[0;32m/mnt/d/proyek1/mlops/lib/python3.10/site-packages/apache_beam/runners/common.cpython-310-x86_64-linux-gnu.so\u001b[0m in \u001b[0;36mapache_beam.runners.common.DoFnRunner._reraise_augmented\u001b[0;34m()\u001b[0m\n",
      "\u001b[0;32m/mnt/d/proyek1/mlops/lib/python3.10/site-packages/apache_beam/runners/common.cpython-310-x86_64-linux-gnu.so\u001b[0m in \u001b[0;36mapache_beam.runners.common.DoFnRunner.process\u001b[0;34m()\u001b[0m\n",
      "\u001b[0;32m/mnt/d/proyek1/mlops/lib/python3.10/site-packages/apache_beam/runners/common.cpython-310-x86_64-linux-gnu.so\u001b[0m in \u001b[0;36mapache_beam.runners.common.SimpleInvoker.invoke_process\u001b[0;34m()\u001b[0m\n",
      "\u001b[0;32m/mnt/d/proyek1/mlops/lib/python3.10/site-packages/tensorflow_model_analysis/utils/model_util.py\u001b[0m in \u001b[0;36mprocess\u001b[0;34m(self, element)\u001b[0m\n\u001b[1;32m    864\u001b[0m           element, keep_batch_dim=True):\n\u001b[1;32m    865\u001b[0m         \u001b[0mself\u001b[0m\u001b[0;34m.\u001b[0m\u001b[0m_batch_size\u001b[0m\u001b[0;34m.\u001b[0m\u001b[0mupdate\u001b[0m\u001b[0;34m(\u001b[0m\u001b[0;36m1\u001b[0m\u001b[0;34m)\u001b[0m\u001b[0;34m\u001b[0m\u001b[0;34m\u001b[0m\u001b[0m\n\u001b[0;32m--> 866\u001b[0;31m         \u001b[0mresult\u001b[0m\u001b[0;34m.\u001b[0m\u001b[0mextend\u001b[0m\u001b[0;34m(\u001b[0m\u001b[0mself\u001b[0m\u001b[0;34m.\u001b[0m\u001b[0m_batch_reducible_process\u001b[0m\u001b[0;34m(\u001b[0m\u001b[0munbatched_element\u001b[0m\u001b[0;34m)\u001b[0m\u001b[0;34m)\u001b[0m\u001b[0;34m\u001b[0m\u001b[0;34m\u001b[0m\u001b[0m\n\u001b[0m\u001b[1;32m    867\u001b[0m       \u001b[0mself\u001b[0m\u001b[0;34m.\u001b[0m\u001b[0m_num_instances\u001b[0m\u001b[0;34m.\u001b[0m\u001b[0minc\u001b[0m\u001b[0;34m(\u001b[0m\u001b[0mlen\u001b[0m\u001b[0;34m(\u001b[0m\u001b[0mresult\u001b[0m\u001b[0;34m)\u001b[0m\u001b[0;34m)\u001b[0m\u001b[0;34m\u001b[0m\u001b[0;34m\u001b[0m\u001b[0m\n\u001b[1;32m    868\u001b[0m       \u001b[0;32mreturn\u001b[0m \u001b[0mresult\u001b[0m\u001b[0;34m\u001b[0m\u001b[0;34m\u001b[0m\u001b[0m\n",
      "\u001b[0;32m/mnt/d/proyek1/mlops/lib/python3.10/site-packages/tensorflow_model_analysis/utils/model_util.py\u001b[0m in \u001b[0;36m_batch_reducible_process\u001b[0;34m(self, batched_extract)\u001b[0m\n\u001b[1;32m   1032\u001b[0m             \u001b[0moutputs\u001b[0m \u001b[0;34m=\u001b[0m \u001b[0msignature\u001b[0m\u001b[0;34m(\u001b[0m\u001b[0mtf\u001b[0m\u001b[0;34m.\u001b[0m\u001b[0mconstant\u001b[0m\u001b[0;34m(\u001b[0m\u001b[0minputs\u001b[0m\u001b[0;34m,\u001b[0m \u001b[0mdtype\u001b[0m\u001b[0;34m=\u001b[0m\u001b[0mtf\u001b[0m\u001b[0;34m.\u001b[0m\u001b[0mstring\u001b[0m\u001b[0;34m)\u001b[0m\u001b[0;34m)\u001b[0m\u001b[0;34m\u001b[0m\u001b[0;34m\u001b[0m\u001b[0m\n\u001b[1;32m   1033\u001b[0m         \u001b[0;32mexcept\u001b[0m \u001b[0;34m(\u001b[0m\u001b[0mTypeError\u001b[0m\u001b[0;34m,\u001b[0m \u001b[0mtf\u001b[0m\u001b[0;34m.\u001b[0m\u001b[0merrors\u001b[0m\u001b[0;34m.\u001b[0m\u001b[0mInvalidArgumentError\u001b[0m\u001b[0;34m)\u001b[0m \u001b[0;32mas\u001b[0m \u001b[0mexc\u001b[0m\u001b[0;34m:\u001b[0m\u001b[0;34m\u001b[0m\u001b[0;34m\u001b[0m\u001b[0m\n\u001b[0;32m-> 1034\u001b[0;31m           raise ValueError(\n\u001b[0m\u001b[1;32m   1035\u001b[0m               \"\"\"Fail to call signature func with signature_name: {}.\n\u001b[1;32m   1036\u001b[0m               \u001b[0mthe\u001b[0m \u001b[0minputs\u001b[0m \u001b[0mare\u001b[0m\u001b[0;34m:\u001b[0m\u001b[0;31m\\\u001b[0m\u001b[0mn\u001b[0m \u001b[0;34m{\u001b[0m\u001b[0;34m}\u001b[0m\u001b[0;34m.\u001b[0m\u001b[0;34m\u001b[0m\u001b[0;34m\u001b[0m\u001b[0m\n",
      "\u001b[0;31mValueError\u001b[0m: Fail to call signature func with signature_name: serving_default.\n              the inputs are:\n [b'\\n\\xcf\\x03\\n\\x19\\n\\rnetflix_hours\\x12\\x08\\x12\\x06\\n\\x04\\xcd\\xcc\\x8c?\\n\\x16\\n\\nexam_score\\x12\\x08\\x12\\x06\\n\\x04\\xcd\\xcc`B\\n\\x18\\n\\x0cdiet_quality\\x12\\x08\\n\\x06\\n\\x04Fair\\n\\x0c\\n\\x03age\\x12\\x05\\x1a\\x03\\n\\x01\\x17\\n\\x1f\\n\\x10internet_quality\\x12\\x0b\\n\\t\\n\\x07Average\\n\\x1d\\n\\x14mental_health_rating\\x12\\x05\\x1a\\x03\\n\\x01\\x08\\n\\x1f\\n\\x13study_hours_per_day\\x12\\x08\\x12\\x06\\n\\x04\\x00\\x00\\x00\\x00\\n!\\n\\x15attendance_percentage\\x12\\x08\\x12\\x06\\n\\x04\\x00\\x00\\xaaB\\n\\x1b\\n\\x12exercise_frequency\\x12\\x05\\x1a\\x03\\n\\x01\\x06\\n\\x17\\n\\rpart_time_job\\x12\\x06\\n\\x04\\n\\x02No\\n&\\n\\x18parental_education_level\\x12\\n\\n\\x08\\n\\x06Master\\n\\x1e\\n\\x12social_media_hours\\x12\\x08\\x12\\x06\\n\\x04\\x9a\\x99\\x99?\\n\\x17\\n\\nstudent_id\\x12\\t\\n\\x07\\n\\x05S1000\\n(\\n\\x1dextracurricular_participation\\x12\\x07\\n\\x05\\n\\x03Yes\\n\\x17\\n\\x0bsleep_hours\\x12\\x08\\x12\\x06\\n\\x04\\x00\\x00\\x00A\\n\\x14\\n\\x06gender\\x12\\n\\n\\x08\\n\\x06Female'].\n              The input_specs are:\n {'age_xf': TensorSpec(shape=(None, 1), dtype=tf.float32, name='age_xf'), 'study_hours_per_day_xf': TensorSpec(shape=(None, 1), dtype=tf.float32, name='study_hours_per_day_xf'), 'social_media_hours_xf': TensorSpec(shape=(None, 1), dtype=tf.float32, name='social_media_hours_xf'), 'netflix_hours_xf': TensorSpec(shape=(None, 1), dtype=tf.float32, name='netflix_hours_xf'), 'attendance_percentage_xf': TensorSpec(shape=(None, 1), dtype=tf.float32, name='attendance_percentage_xf'), 'sleep_hours_xf': TensorSpec(shape=(None, 1), dtype=tf.float32, name='sleep_hours_xf'), 'mental_health_rating_xf': TensorSpec(shape=(None, 1), dtype=tf.float32, name='mental_health_rating_xf'), 'exercise_frequency_xf': TensorSpec(shape=(None, 1), dtype=tf.float32, name='exercise_frequency_xf')}. [while running 'ExtractEvaluateAndWriteResults/ExtractAndEvaluate/ExtractPredictions/Inference']"
     ]
    }
   ],
   "source": [
    "# 9. Evaluator & Pusher\n",
    "eval_config = tfma.EvalConfig(\n",
    "    model_specs=[tfma.ModelSpec(label_key='exam_score_xf')],\n",
    "    slicing_specs=[tfma.SlicingSpec()],\n",
    "    metrics_specs=[tfma.MetricsSpec(metrics=[tfma.MetricConfig(class_name='RootMeanSquaredError')])]\n",
    ")\n",
    "evaluator = Evaluator(\n",
    "    examples=example_gen.outputs['examples'],\n",
    "    model=trainer.outputs['model'],\n",
    "    baseline_model=blessed_model_resolver.outputs.get('model'),\n",
    "    eval_config=eval_config\n",
    ")\n",
    "context.run(evaluator, enable_cache=False)\n",
    "print(\"✅ 9/9 Evaluator Selesai\")\n",
    "\n",
    "pusher = Pusher(\n",
    "    model=trainer.outputs['model'],\n",
    "    model_blessing=evaluator.outputs['blessing'],\n",
    "    push_destination=pusher_pb2.PushDestination(filesystem=pusher_pb2.PushDestination.Filesystem(base_directory=SERVING_MODEL_DIR))\n",
    ")\n",
    "context.run(pusher)\n",
    "print(\"🚀🚀🚀 Pusher Selesai, Pipeline Lengkap! 🚀🚀🚀\")\n"
   ]
  },
  {
   "cell_type": "code",
   "execution_count": null,
   "id": "b36ffb57-7836-4616-bd12-4d4a1b1b7b1f",
   "metadata": {},
   "outputs": [],
   "source": []
  }
 ],
 "metadata": {
  "kernelspec": {
   "display_name": "Python 3 (MLOps Project)",
   "language": "python",
   "name": "mlops"
  },
  "language_info": {
   "codemirror_mode": {
    "name": "ipython",
    "version": 3
   },
   "file_extension": ".py",
   "mimetype": "text/x-python",
   "name": "python",
   "nbconvert_exporter": "python",
   "pygments_lexer": "ipython3",
   "version": "3.10.12"
  }
 },
 "nbformat": 4,
 "nbformat_minor": 5
}
